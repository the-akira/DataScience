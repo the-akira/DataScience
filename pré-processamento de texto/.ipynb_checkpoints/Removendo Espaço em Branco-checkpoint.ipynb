{
 "cells": [
  {
   "cell_type": "markdown",
   "metadata": {},
   "source": [
    "# Removendo Espaço em Branco"
   ]
  },
  {
   "cell_type": "markdown",
   "metadata": {},
   "source": [
    "### Criando Textos"
   ]
  },
  {
   "cell_type": "code",
   "execution_count": 1,
   "metadata": {},
   "outputs": [],
   "source": [
    "frases = [\"   There's only one corner of the universe you can be certain of improving, and that's your own self.     \",\n",
    "             \"Most ignorance is vincible ignorance. We don't know because we don't want to know.\",\n",
    "             '    We cannot solve our problems with the same thinking we used when we created them.   ']\n",
    "\n",
    "texto = ['   1 --.\\n By Aldous\\t Huxley     ',\n",
    "             '2 --. By Aldous Huxley\\n',\n",
    "             '    3 --. By Albert \\tEinstein\\n   ']"
   ]
  },
  {
   "cell_type": "markdown",
   "metadata": {},
   "source": [
    "### Observando os Dados"
   ]
  },
  {
   "cell_type": "code",
   "execution_count": 6,
   "metadata": {},
   "outputs": [
    {
     "data": {
      "text/plain": [
       "[\"   There's only one corner of the universe you can be certain of improving, and that's your own self.     \",\n",
       " \"Most ignorance is vincible ignorance. We don't know because we don't want to know.\",\n",
       " '    We cannot solve our problems with the same thinking we used when we created them.   ']"
      ]
     },
     "execution_count": 6,
     "metadata": {},
     "output_type": "execute_result"
    }
   ],
   "source": [
    "frases"
   ]
  },
  {
   "cell_type": "code",
   "execution_count": 7,
   "metadata": {},
   "outputs": [
    {
     "data": {
      "text/plain": [
       "['   1 --.\\n By Aldous\\t Huxley     ',\n",
       " '2 --. By Aldous Huxley\\n',\n",
       " '    3 --. By Albert \\tEinstein\\n   ']"
      ]
     },
     "execution_count": 7,
     "metadata": {},
     "output_type": "execute_result"
    }
   ],
   "source": [
    "texto"
   ]
  },
  {
   "cell_type": "markdown",
   "metadata": {},
   "source": [
    "### Removendo Espaços em Branco"
   ]
  },
  {
   "cell_type": "code",
   "execution_count": 8,
   "metadata": {},
   "outputs": [],
   "source": [
    "espacos_removidos = [string.strip() for string in frases]"
   ]
  },
  {
   "cell_type": "code",
   "execution_count": 9,
   "metadata": {},
   "outputs": [
    {
     "data": {
      "text/plain": [
       "[\"There's only one corner of the universe you can be certain of improving, and that's your own self.\",\n",
       " \"Most ignorance is vincible ignorance. We don't know because we don't want to know.\",\n",
       " 'We cannot solve our problems with the same thinking we used when we created them.']"
      ]
     },
     "execution_count": 9,
     "metadata": {},
     "output_type": "execute_result"
    }
   ],
   "source": [
    "espacos_removidos"
   ]
  },
  {
   "cell_type": "code",
   "execution_count": 12,
   "metadata": {},
   "outputs": [
    {
     "name": "stdout",
     "output_type": "stream",
     "text": [
      "['   Interrobang.\\n By Aishwarya\\t Henriette     ', 'Parking And Going. By Karl Gautier\\n', '    Today Is The night. By Jarek \\tPrakash\\n   ']\n"
     ]
    }
   ],
   "source": [
    "print(texto)"
   ]
  },
  {
   "cell_type": "code",
   "execution_count": 10,
   "metadata": {},
   "outputs": [
    {
     "data": {
      "text/plain": [
       "['1 --.\\n By Aldous\\t Huxley',\n",
       " '2 --. By Aldous Huxley',\n",
       " '3 --. By Albert \\tEinstein']"
      ]
     },
     "execution_count": 10,
     "metadata": {},
     "output_type": "execute_result"
    }
   ],
   "source": [
    "[string.strip() for string in texto]"
   ]
  }
 ],
 "metadata": {
  "kernelspec": {
   "display_name": "Python 3",
   "language": "python",
   "name": "python3"
  },
  "language_info": {
   "codemirror_mode": {
    "name": "ipython",
    "version": 3
   },
   "file_extension": ".py",
   "mimetype": "text/x-python",
   "name": "python",
   "nbconvert_exporter": "python",
   "pygments_lexer": "ipython3",
   "version": "3.6.9"
  }
 },
 "nbformat": 4,
 "nbformat_minor": 4
}
