{
 "cells": [
  {
   "cell_type": "markdown",
   "metadata": {},
   "source": [
    "# Comparando Dois Dicionários\n",
    "\n",
    "Neste notebook veremos como podemos comparar os dados de dois dicionários.\n",
    "\n",
    "## Construindo os Dicionários\n",
    "\n",
    "Vamos construir dois dicionários com dados sintéticos contendo números de **importação** e **exportação** de diferentes países:"
   ]
  },
  {
   "cell_type": "code",
   "execution_count": 1,
   "metadata": {},
   "outputs": [],
   "source": [
    "importadores = {\n",
    "    'Brazil': 1034,\n",
    "    'India' : 152,\n",
    "    'China' : 252,\n",
    "    'Chile' : 377,\n",
    "    'Russia': 420,\n",
    "    'USA'   : 555,\n",
    "}\n",
    "\n",
    "exportadores = {\n",
    "    'China'  : 252,\n",
    "    'Germany': 251,\n",
    "    'Italy'  : 1563,\n",
    "    'USA'    : 777,\n",
    "    'Russia' : 221,\n",
    "}"
   ]
  },
  {
   "cell_type": "markdown",
   "metadata": {},
   "source": [
    "### Buscando Chaves Duplicadas\n",
    "\n",
    "A seguir vamos buscar quais chaves estão presentes em ambos os dicionários:"
   ]
  },
  {
   "cell_type": "code",
   "execution_count": 2,
   "metadata": {},
   "outputs": [
    {
     "data": {
      "text/plain": [
       "{'China', 'Russia', 'USA'}"
      ]
     },
     "execution_count": 2,
     "metadata": {},
     "output_type": "execute_result"
    }
   ],
   "source": [
    "importadores.keys() & exportadores.keys()"
   ]
  },
  {
   "cell_type": "markdown",
   "metadata": {},
   "source": [
    "### Buscando Diferença em Chaves\n",
    "\n",
    "Itens exclusivos de importadores:"
   ]
  },
  {
   "cell_type": "code",
   "execution_count": 3,
   "metadata": {},
   "outputs": [
    {
     "data": {
      "text/plain": [
       "{'Brazil', 'Chile', 'India'}"
      ]
     },
     "execution_count": 3,
     "metadata": {},
     "output_type": "execute_result"
    }
   ],
   "source": [
    "importadores.keys() - exportadores.keys() "
   ]
  },
  {
   "cell_type": "markdown",
   "metadata": {},
   "source": [
    "Itens exclusivos de exportadores:"
   ]
  },
  {
   "cell_type": "code",
   "execution_count": 5,
   "metadata": {},
   "outputs": [
    {
     "data": {
      "text/plain": [
       "{'Germany', 'Italy'}"
      ]
     },
     "execution_count": 5,
     "metadata": {},
     "output_type": "execute_result"
    }
   ],
   "source": [
    "exportadores.keys() - importadores.keys() "
   ]
  },
  {
   "cell_type": "markdown",
   "metadata": {},
   "source": [
    "### Buscando Chave-Valor em Comum\n",
    "\n",
    "A seguir buscamos um item que possua Chave e Valor em comum em ambos os dicionários:"
   ]
  },
  {
   "cell_type": "code",
   "execution_count": 6,
   "metadata": {},
   "outputs": [
    {
     "data": {
      "text/plain": [
       "{('China', 252)}"
      ]
     },
     "execution_count": 6,
     "metadata": {},
     "output_type": "execute_result"
    }
   ],
   "source": [
    "importadores.items() & exportadores.items()"
   ]
  }
 ],
 "metadata": {
  "kernelspec": {
   "display_name": "Python 3",
   "language": "python",
   "name": "python3"
  },
  "language_info": {
   "codemirror_mode": {
    "name": "ipython",
    "version": 3
   },
   "file_extension": ".py",
   "mimetype": "text/x-python",
   "name": "python",
   "nbconvert_exporter": "python",
   "pygments_lexer": "ipython3",
   "version": "3.7.10"
  }
 },
 "nbformat": 4,
 "nbformat_minor": 4
}
