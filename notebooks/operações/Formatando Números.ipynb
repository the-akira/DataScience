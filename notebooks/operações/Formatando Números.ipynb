{
 "cells": [
  {
   "cell_type": "markdown",
   "metadata": {},
   "source": [
    "# Formatando Números\n",
    "\n",
    "Neste notebook veremos diferentes maneiras de formatar um número.\n",
    "\n",
    "## Iniciando um Número Extenso\n",
    "\n",
    "Primeiramente vamos iniciar um número extenso que será formatado:"
   ]
  },
  {
   "cell_type": "code",
   "execution_count": 27,
   "metadata": {},
   "outputs": [],
   "source": [
    "número = 798.6563"
   ]
  },
  {
   "cell_type": "markdown",
   "metadata": {},
   "source": [
    "## Formatando\n",
    "\n",
    "Formato arredondado para duas casas decimais:"
   ]
  },
  {
   "cell_type": "code",
   "execution_count": 30,
   "metadata": {},
   "outputs": [
    {
     "name": "stdout",
     "output_type": "stream",
     "text": [
      "798.66\n",
      "798.66\n"
     ]
    }
   ],
   "source": [
    "print(format(número, '0.2f'))\n",
    "print(f'{número:0.2f}')"
   ]
  },
  {
   "cell_type": "markdown",
   "metadata": {},
   "source": [
    "Formato com vírgulas e arredondado para uma casa decimal:"
   ]
  },
  {
   "cell_type": "code",
   "execution_count": 33,
   "metadata": {},
   "outputs": [
    {
     "name": "stdout",
     "output_type": "stream",
     "text": [
      "798.7\n",
      "798.7\n"
     ]
    }
   ],
   "source": [
    "print(format(número, '0,.1f'))\n",
    "print(f'{número:,.1f}')"
   ]
  },
  {
   "cell_type": "markdown",
   "metadata": {},
   "source": [
    "Formato como Notação Científica:"
   ]
  },
  {
   "cell_type": "code",
   "execution_count": 34,
   "metadata": {},
   "outputs": [
    {
     "name": "stdout",
     "output_type": "stream",
     "text": [
      "7.986563e+02\n",
      "7.986563e+02\n"
     ]
    }
   ],
   "source": [
    "print(format(número, 'e'))\n",
    "print(f'{número:e}')"
   ]
  },
  {
   "cell_type": "markdown",
   "metadata": {},
   "source": [
    "Formatar como Notação Científica arredondada para duas casas decimais:"
   ]
  },
  {
   "cell_type": "code",
   "execution_count": 39,
   "metadata": {},
   "outputs": [
    {
     "name": "stdout",
     "output_type": "stream",
     "text": [
      "7.99E+02\n",
      "7.99E+02\n"
     ]
    }
   ],
   "source": [
    "print(format(número, '0.2E'))\n",
    "print(f'{número:0.2E}')"
   ]
  }
 ],
 "metadata": {
  "kernelspec": {
   "display_name": "Python 3",
   "language": "python",
   "name": "python3"
  },
  "language_info": {
   "codemirror_mode": {
    "name": "ipython",
    "version": 3
   },
   "file_extension": ".py",
   "mimetype": "text/x-python",
   "name": "python",
   "nbconvert_exporter": "python",
   "pygments_lexer": "ipython3",
   "version": "3.7.10"
  }
 },
 "nbformat": 4,
 "nbformat_minor": 4
}
