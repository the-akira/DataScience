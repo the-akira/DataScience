{
 "cells": [
  {
   "cell_type": "markdown",
   "metadata": {},
   "source": [
    "# Todas as Combinações Possíveis para uma Lista de Objetos\n",
    "\n",
    "Para este experimento, vamos utilizar a biblioteca **[itertools](https://docs.python.org/3/library/itertools.html)**."
   ]
  },
  {
   "cell_type": "code",
   "execution_count": 1,
   "metadata": {},
   "outputs": [],
   "source": [
    "from itertools import combinations_with_replacement"
   ]
  },
  {
   "cell_type": "markdown",
   "metadata": {},
   "source": [
    "### Criando uma Lista de Objetos\n",
    "\n",
    "A seguir definimos uma lista de objetos para combinarmos:"
   ]
  },
  {
   "cell_type": "code",
   "execution_count": 2,
   "metadata": {},
   "outputs": [],
   "source": [
    "linguagens = ['LISP', 'Python', 'Javascript']"
   ]
  },
  {
   "cell_type": "markdown",
   "metadata": {},
   "source": [
    "### Encontre Todas as Combinações (com Substituição) para a Lista\n",
    "\n",
    "Para isso, vamos criar uma lista vazia para guardar os resultados do **for loop**.\n",
    "\n",
    "Em seguida, criamos um loop para cada item da lista, que busca cada combinação (com substituição) para cada objeto na lista:"
   ]
  },
  {
   "cell_type": "code",
   "execution_count": 3,
   "metadata": {},
   "outputs": [],
   "source": [
    "combinations = []\n",
    "\n",
    "for i in list(range(len(linguagens))):\n",
    "    combinations.append(combinations_with_replacement(linguagens, i+1))"
   ]
  },
  {
   "cell_type": "markdown",
   "metadata": {},
   "source": [
    "E então comprimimos a lista de iteradores em uma única lista:"
   ]
  },
  {
   "cell_type": "code",
   "execution_count": 5,
   "metadata": {},
   "outputs": [
    {
     "name": "stdout",
     "output_type": "stream",
     "text": [
      "[('LISP',), ('Python',), ('Javascript',), ('LISP', 'LISP'), ('LISP', 'Python'), ('LISP', 'Javascript'), ('Python', 'Python'), ('Python', 'Javascript'), ('Javascript', 'Javascript'), ('LISP', 'LISP', 'LISP'), ('LISP', 'LISP', 'Python'), ('LISP', 'LISP', 'Javascript'), ('LISP', 'Python', 'Python'), ('LISP', 'Python', 'Javascript'), ('LISP', 'Javascript', 'Javascript'), ('Python', 'Python', 'Python'), ('Python', 'Python', 'Javascript'), ('Python', 'Javascript', 'Javascript'), ('Javascript', 'Javascript', 'Javascript')]\n"
     ]
    }
   ],
   "source": [
    "combinations = [i for row in combinations for i in row]\n",
    "print(combinations)"
   ]
  },
  {
   "cell_type": "markdown",
   "metadata": {},
   "source": [
    "Podemos usar a função **len** para obter o total de combinações:"
   ]
  },
  {
   "cell_type": "code",
   "execution_count": 6,
   "metadata": {},
   "outputs": [
    {
     "name": "stdout",
     "output_type": "stream",
     "text": [
      "19\n"
     ]
    }
   ],
   "source": [
    "print(len(combinations))"
   ]
  }
 ],
 "metadata": {
  "kernelspec": {
   "display_name": "Python 3",
   "language": "python",
   "name": "python3"
  },
  "language_info": {
   "codemirror_mode": {
    "name": "ipython",
    "version": 3
   },
   "file_extension": ".py",
   "mimetype": "text/x-python",
   "name": "python",
   "nbconvert_exporter": "python",
   "pygments_lexer": "ipython3",
   "version": "3.7.10"
  }
 },
 "nbformat": 4,
 "nbformat_minor": 4
}
