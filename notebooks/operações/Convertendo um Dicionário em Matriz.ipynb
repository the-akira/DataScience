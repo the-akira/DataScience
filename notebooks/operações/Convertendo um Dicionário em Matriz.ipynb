{
 "cells": [
  {
   "cell_type": "markdown",
   "metadata": {},
   "source": [
    "# Convertendo um Dicionário\n",
    "\n",
    "Começamos importando o método **DictVectorizer()** do módulo **feature_extraction** da biblioteca [Scikit-Learn](https://scikit-learn.org/stable/):"
   ]
  },
  {
   "cell_type": "code",
   "execution_count": 3,
   "metadata": {},
   "outputs": [],
   "source": [
    "from sklearn.feature_extraction import DictVectorizer"
   ]
  },
  {
   "cell_type": "markdown",
   "metadata": {},
   "source": [
    "O **DictVectorizer** implementa o que é chamado de codificação **one-of-K** ou “one-hot” para features categóricos (também conhecidos como nominais, discretos). \n",
    "\n",
    "Features categóricas são pares de \"atributo-valor\" em que o valor é restrito a uma lista de possibilidades discretas sem ordenação (por exemplo, identificadores de tópico, tipos de objetos, tags, nomes, etc)."
   ]
  },
  {
   "cell_type": "markdown",
   "metadata": {},
   "source": [
    "## Lista de Dicionários\n",
    "\n",
    "A seguir, criamos uma lista de dicionários para o experimento:"
   ]
  },
  {
   "cell_type": "code",
   "execution_count": 1,
   "metadata": {},
   "outputs": [],
   "source": [
    "linguagens = [\n",
    "    {'C': 2, 'C++': 4},\n",
    "    {'C': 4, 'C++': 3},\n",
    "    {'C': 1, 'Python': 2, 'C++': 3},\n",
    "    {'C': 2, 'Python': 2}\n",
    "]"
   ]
  },
  {
   "cell_type": "markdown",
   "metadata": {},
   "source": [
    "Instanciamos **DictVectorizer**:"
   ]
  },
  {
   "cell_type": "code",
   "execution_count": 4,
   "metadata": {},
   "outputs": [],
   "source": [
    "dictvectorizer = DictVectorizer(sparse=False)"
   ]
  },
  {
   "cell_type": "markdown",
   "metadata": {},
   "source": [
    "Transformamos nosso dicionário em uma matriz de features com o método **fit_transform**:"
   ]
  },
  {
   "cell_type": "code",
   "execution_count": 6,
   "metadata": {},
   "outputs": [],
   "source": [
    "features = dictvectorizer.fit_transform(linguagens)"
   ]
  },
  {
   "cell_type": "markdown",
   "metadata": {},
   "source": [
    "Como resultado temos uma matriz de 4 linhas e 3 colunas:\n",
    "\n",
    "- Coluna 1 representa C\n",
    "- Coluna 2 representa C++\n",
    "- Coluna 3 representa Python"
   ]
  },
  {
   "cell_type": "code",
   "execution_count": 7,
   "metadata": {},
   "outputs": [
    {
     "name": "stdout",
     "output_type": "stream",
     "text": [
      "[[2. 4. 0.]\n",
      " [4. 3. 0.]\n",
      " [1. 3. 2.]\n",
      " [2. 0. 2.]]\n"
     ]
    }
   ],
   "source": [
    "print(features)"
   ]
  },
  {
   "cell_type": "markdown",
   "metadata": {},
   "source": [
    "Para obter o nome de cada feature podemos usar o método **get_feature_names**:"
   ]
  },
  {
   "cell_type": "code",
   "execution_count": 8,
   "metadata": {},
   "outputs": [
    {
     "data": {
      "text/plain": [
       "['C', 'C++', 'Python']"
      ]
     },
     "execution_count": 8,
     "metadata": {},
     "output_type": "execute_result"
    }
   ],
   "source": [
    "dictvectorizer.get_feature_names()"
   ]
  }
 ],
 "metadata": {
  "kernelspec": {
   "display_name": "Python 3",
   "language": "python",
   "name": "python3"
  },
  "language_info": {
   "codemirror_mode": {
    "name": "ipython",
    "version": 3
   },
   "file_extension": ".py",
   "mimetype": "text/x-python",
   "name": "python",
   "nbconvert_exporter": "python",
   "pygments_lexer": "ipython3",
   "version": "3.7.10"
  }
 },
 "nbformat": 4,
 "nbformat_minor": 4
}
