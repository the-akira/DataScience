{
 "cells": [
  {
   "cell_type": "markdown",
   "metadata": {},
   "source": [
    "# Listando Todos os Arquivos de Determinado Tipo"
   ]
  },
  {
   "cell_type": "code",
   "execution_count": 1,
   "metadata": {},
   "outputs": [],
   "source": [
    "import os"
   ]
  },
  {
   "cell_type": "code",
   "execution_count": 2,
   "metadata": {},
   "outputs": [
    {
     "data": {
      "text/plain": [
       "['Gerando Números Aleatórios com NumPy.ipynb',\n",
       " 'Comparando Dicionários.ipynb',\n",
       " 'Organizando Lista de Strings por Comprimento.ipynb',\n",
       " 'Notação Científica como Ponto Flutuante.ipynb',\n",
       " 'Todas as Combinações para Lista de Objetos.ipynb',\n",
       " 'Listando Arquivos Determinado Tipo.ipynb',\n",
       " 'Formatando Números.ipynb',\n",
       " 'Convertendo um Dicionário em Matriz.ipynb',\n",
       " 'Produto Cartesiano.ipynb']"
      ]
     },
     "execution_count": 2,
     "metadata": {},
     "output_type": "execute_result"
    }
   ],
   "source": [
    "[x for x in os.listdir() if x.endswith(\".ipynb\")]"
   ]
  }
 ],
 "metadata": {
  "kernelspec": {
   "display_name": "Python 3",
   "language": "python",
   "name": "python3"
  },
  "language_info": {
   "codemirror_mode": {
    "name": "ipython",
    "version": 3
   },
   "file_extension": ".py",
   "mimetype": "text/x-python",
   "name": "python",
   "nbconvert_exporter": "python",
   "pygments_lexer": "ipython3",
   "version": "3.6.9"
  }
 },
 "nbformat": 4,
 "nbformat_minor": 4
}
