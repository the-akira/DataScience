{
 "cells": [
  {
   "cell_type": "markdown",
   "metadata": {},
   "source": [
    "# Produto Cartesiano\n",
    "\n",
    "Na matemática, especificamente teoria dos conjuntos, o produto cartesiano de dois conjuntos **A** e **B**, denotado **A × B**, é o conjunto de todos os pares ordenados **(a, b)** em que **a** está em **A** e **b** em **B**."
   ]
  },
  {
   "cell_type": "code",
   "execution_count": 10,
   "metadata": {},
   "outputs": [],
   "source": [
    "i = [1,2,3,4,5]\n",
    "j = [1,2,3,4,5]"
   ]
  },
  {
   "cell_type": "markdown",
   "metadata": {},
   "source": [
    "#### Produto Cartesiano através de uma compreensão de lista"
   ]
  },
  {
   "cell_type": "code",
   "execution_count": 13,
   "metadata": {},
   "outputs": [
    {
     "data": {
      "text/plain": [
       "[(1, 1),\n",
       " (1, 2),\n",
       " (1, 3),\n",
       " (1, 4),\n",
       " (1, 5),\n",
       " (2, 1),\n",
       " (2, 2),\n",
       " (2, 3),\n",
       " (2, 4),\n",
       " (2, 5),\n",
       " (3, 1),\n",
       " (3, 2),\n",
       " (3, 3),\n",
       " (3, 4),\n",
       " (3, 5),\n",
       " (4, 1),\n",
       " (4, 2),\n",
       " (4, 3),\n",
       " (4, 4),\n",
       " (4, 5),\n",
       " (5, 1),\n",
       " (5, 2),\n",
       " (5, 3),\n",
       " (5, 4),\n",
       " (5, 5)]"
      ]
     },
     "execution_count": 13,
     "metadata": {},
     "output_type": "execute_result"
    }
   ],
   "source": [
    "[(x, y) for x in i for y in j]"
   ]
  },
  {
   "cell_type": "markdown",
   "metadata": {},
   "source": [
    "#### Produto Cartesiano através da biblioteca **itertools**"
   ]
  },
  {
   "cell_type": "code",
   "execution_count": 14,
   "metadata": {},
   "outputs": [
    {
     "data": {
      "text/plain": [
       "[(1, 5),\n",
       " (1, 4),\n",
       " (1, 3),\n",
       " (1, 2),\n",
       " (1, 1),\n",
       " (2, 5),\n",
       " (2, 4),\n",
       " (2, 3),\n",
       " (2, 2),\n",
       " (2, 1),\n",
       " (3, 5),\n",
       " (3, 4),\n",
       " (3, 3),\n",
       " (3, 2),\n",
       " (3, 1),\n",
       " (4, 5),\n",
       " (4, 4),\n",
       " (4, 3),\n",
       " (4, 2),\n",
       " (4, 1),\n",
       " (5, 5),\n",
       " (5, 4),\n",
       " (5, 3),\n",
       " (5, 2),\n",
       " (5, 1)]"
      ]
     },
     "execution_count": 14,
     "metadata": {},
     "output_type": "execute_result"
    }
   ],
   "source": [
    "import itertools\n",
    "\n",
    "k = [1,2,3,4,5]\n",
    "l = [5,4,3,2,1]\n",
    "\n",
    "[i for i in itertools.product(k,l)]"
   ]
  }
 ],
 "metadata": {
  "kernelspec": {
   "display_name": "Python 3",
   "language": "python",
   "name": "python3"
  },
  "language_info": {
   "codemirror_mode": {
    "name": "ipython",
    "version": 3
   },
   "file_extension": ".py",
   "mimetype": "text/x-python",
   "name": "python",
   "nbconvert_exporter": "python",
   "pygments_lexer": "ipython3",
   "version": "3.6.9"
  }
 },
 "nbformat": 4,
 "nbformat_minor": 4
}
