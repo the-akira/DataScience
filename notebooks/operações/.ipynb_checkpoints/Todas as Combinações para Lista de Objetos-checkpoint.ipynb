{
 "cells": [
  {
   "cell_type": "markdown",
   "metadata": {},
   "source": [
    "# Todas as Combinações Possíveis para uma Lista de Objetos"
   ]
  },
  {
   "cell_type": "code",
   "execution_count": 3,
   "metadata": {},
   "outputs": [],
   "source": [
    "from itertools import combinations_with_replacement"
   ]
  },
  {
   "cell_type": "markdown",
   "metadata": {},
   "source": [
    "### Criando uma Lista de Objetos"
   ]
  },
  {
   "cell_type": "code",
   "execution_count": 4,
   "metadata": {},
   "outputs": [],
   "source": [
    "# Lista de objetos para combinarmos\n",
    "linguagens = ['LISP', 'Python', 'Javascript']"
   ]
  },
  {
   "cell_type": "markdown",
   "metadata": {},
   "source": [
    "### Encontre todas as combinações (com substituição) para a lista"
   ]
  },
  {
   "cell_type": "code",
   "execution_count": 5,
   "metadata": {},
   "outputs": [],
   "source": [
    "# Criamos um objeto lista vazio para guardar os resultados do for loop\n",
    "combinations = []\n",
    "\n",
    "# Criamos um loop para cada item do comprimento da lista de objetos, que:\n",
    "for i in list(range(len(linguagens))):\n",
    "    # Busca cada combinação (com substituição) para cada objeto na lista\n",
    "    combinations.append(combinations_with_replacement(linguagens, i+1))"
   ]
  },
  {
   "cell_type": "code",
   "execution_count": 6,
   "metadata": {},
   "outputs": [
    {
     "name": "stdout",
     "output_type": "stream",
     "text": [
      "[('LISP',), ('Python',), ('Javascript',), ('LISP', 'LISP'), ('LISP', 'Python'), ('LISP', 'Javascript'), ('Python', 'Python'), ('Python', 'Javascript'), ('Javascript', 'Javascript'), ('LISP', 'LISP', 'LISP'), ('LISP', 'LISP', 'Python'), ('LISP', 'LISP', 'Javascript'), ('LISP', 'Python', 'Python'), ('LISP', 'Python', 'Javascript'), ('LISP', 'Javascript', 'Javascript'), ('Python', 'Python', 'Python'), ('Python', 'Python', 'Javascript'), ('Python', 'Javascript', 'Javascript'), ('Javascript', 'Javascript', 'Javascript')]\n"
     ]
    }
   ],
   "source": [
    "# Comprimindo a lista de iteradores em uma única lista\n",
    "combinations = [i for row in combinations for i in row]\n",
    "\n",
    "print(combinations)"
   ]
  },
  {
   "cell_type": "code",
   "execution_count": 7,
   "metadata": {},
   "outputs": [
    {
     "name": "stdout",
     "output_type": "stream",
     "text": [
      "19\n"
     ]
    }
   ],
   "source": [
    "print(len(combinations))"
   ]
  }
 ],
 "metadata": {
  "kernelspec": {
   "display_name": "Python 3",
   "language": "python",
   "name": "python3"
  },
  "language_info": {
   "codemirror_mode": {
    "name": "ipython",
    "version": 3
   },
   "file_extension": ".py",
   "mimetype": "text/x-python",
   "name": "python",
   "nbconvert_exporter": "python",
   "pygments_lexer": "ipython3",
   "version": "3.6.9"
  }
 },
 "nbformat": 4,
 "nbformat_minor": 4
}
