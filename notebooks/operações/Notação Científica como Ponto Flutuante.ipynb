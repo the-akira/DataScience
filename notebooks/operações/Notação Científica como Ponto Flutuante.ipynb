{
 "cells": [
  {
   "cell_type": "markdown",
   "metadata": {},
   "source": [
    "# Apresentar Notação Científica como Ponto Flutuante\n",
    "\n",
    "Neste notebook veremos como podemos apresentar valores em notação científica como ponto flutuante.\n",
    "\n",
    "## Criando Valores\n",
    "\n",
    "A seguir, vamos definir:\n",
    "\n",
    "- Um número em notação científica.\n",
    "- Um vetor de números em notação científica."
   ]
  },
  {
   "cell_type": "code",
   "execution_count": 1,
   "metadata": {},
   "outputs": [],
   "source": [
    "valor_notacao_cientifica = 6.32000000e-03\n",
    "\n",
    "vetor_notacao_cientifica = [\n",
    "    6.32000000e-03,\n",
    "    1.80000000e+01,\n",
    "    2.31000000e+00,\n",
    "    0.00000000e+00,\n",
    "    5.38000000e-01,\n",
    "    6.57500000e+00,\n",
    "    6.52000000e+01,\n",
    "    4.09000000e+00,\n",
    "    1.00000000e+00,\n",
    "    2.96000000e+02,\n",
    "    1.53000000e+01,\n",
    "    3.96900000e+02,\n",
    "    4.98000000e+00\n",
    "]"
   ]
  },
  {
   "cell_type": "markdown",
   "metadata": {},
   "source": [
    "### Apresentando Valores como Ponto Flutuante\n",
    "\n",
    "Mostrando um valor como ponto flutuante:"
   ]
  },
  {
   "cell_type": "code",
   "execution_count": 2,
   "metadata": {},
   "outputs": [
    {
     "data": {
      "text/plain": [
       "'0.006320'"
      ]
     },
     "execution_count": 2,
     "metadata": {},
     "output_type": "execute_result"
    }
   ],
   "source": [
    "f'{valor_notacao_cientifica:f}'"
   ]
  },
  {
   "cell_type": "markdown",
   "metadata": {},
   "source": [
    "Mostrando os valores do vetor como ponto flutuante:"
   ]
  },
  {
   "cell_type": "code",
   "execution_count": 3,
   "metadata": {},
   "outputs": [
    {
     "data": {
      "text/plain": [
       "['0.006320',\n",
       " '18.000000',\n",
       " '2.310000',\n",
       " '0.000000',\n",
       " '0.538000',\n",
       " '6.575000',\n",
       " '65.200000',\n",
       " '4.090000',\n",
       " '1.000000',\n",
       " '296.000000',\n",
       " '15.300000',\n",
       " '396.900000',\n",
       " '4.980000']"
      ]
     },
     "execution_count": 3,
     "metadata": {},
     "output_type": "execute_result"
    }
   ],
   "source": [
    "[f'{x:f}' for x in vetor_notacao_cientifica]"
   ]
  }
 ],
 "metadata": {
  "kernelspec": {
   "display_name": "Python 3",
   "language": "python",
   "name": "python3"
  },
  "language_info": {
   "codemirror_mode": {
    "name": "ipython",
    "version": 3
   },
   "file_extension": ".py",
   "mimetype": "text/x-python",
   "name": "python",
   "nbconvert_exporter": "python",
   "pygments_lexer": "ipython3",
   "version": "3.7.10"
  }
 },
 "nbformat": 4,
 "nbformat_minor": 4
}
