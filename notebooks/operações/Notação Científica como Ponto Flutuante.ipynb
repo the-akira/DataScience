{
 "cells": [
  {
   "cell_type": "markdown",
   "metadata": {},
   "source": [
    "# Apresentar Notação Científica como Ponto Flutuante\n",
    "\n",
    "## Criando Valores"
   ]
  },
  {
   "cell_type": "code",
   "execution_count": 7,
   "metadata": {},
   "outputs": [],
   "source": [
    "# Criando um número em notação científica\n",
    "value_scientific_notation = 6.32000000e-03\n",
    "\n",
    "# Criando um vetor de números em notação científica\n",
    "vector_scientific_notation = [6.32000000e-03,\n",
    "                              1.80000000e+01,\n",
    "                              2.31000000e+00,\n",
    "                              0.00000000e+00,\n",
    "                              5.38000000e-01,\n",
    "                              6.57500000e+00,\n",
    "                              6.52000000e+01,\n",
    "                              4.09000000e+00,\n",
    "                              1.00000000e+00,\n",
    "                              2.96000000e+02,\n",
    "                              1.53000000e+01,\n",
    "                              3.96900000e+02,\n",
    "                              4.98000000e+00]"
   ]
  },
  {
   "cell_type": "markdown",
   "metadata": {},
   "source": [
    "### Apresentando Valores como Ponto Flutuante"
   ]
  },
  {
   "cell_type": "code",
   "execution_count": 8,
   "metadata": {},
   "outputs": [
    {
     "data": {
      "text/plain": [
       "'0.006320'"
      ]
     },
     "execution_count": 8,
     "metadata": {},
     "output_type": "execute_result"
    }
   ],
   "source": [
    "# Mostrando um valor como ponto flutuante\n",
    "f'{value_scientific_notation:f}'"
   ]
  },
  {
   "cell_type": "code",
   "execution_count": 4,
   "metadata": {},
   "outputs": [
    {
     "data": {
      "text/plain": [
       "['0.006320',\n",
       " '18.000000',\n",
       " '2.310000',\n",
       " '0.000000',\n",
       " '0.538000',\n",
       " '6.575000',\n",
       " '65.200000',\n",
       " '4.090000',\n",
       " '1.000000',\n",
       " '296.000000',\n",
       " '15.300000',\n",
       " '396.900000',\n",
       " '4.980000']"
      ]
     },
     "execution_count": 4,
     "metadata": {},
     "output_type": "execute_result"
    }
   ],
   "source": [
    "# Mostrando os valores do vetor como ponto flutuante\n",
    "[f'{x:f}' for x in vector_scientific_notation]"
   ]
  }
 ],
 "metadata": {
  "kernelspec": {
   "display_name": "Python 3",
   "language": "python",
   "name": "python3"
  },
  "language_info": {
   "codemirror_mode": {
    "name": "ipython",
    "version": 3
   },
   "file_extension": ".py",
   "mimetype": "text/x-python",
   "name": "python",
   "nbconvert_exporter": "python",
   "pygments_lexer": "ipython3",
   "version": "3.7.4"
  }
 },
 "nbformat": 4,
 "nbformat_minor": 2
}
