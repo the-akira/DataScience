{
 "cells": [
  {
   "cell_type": "markdown",
   "metadata": {},
   "source": [
    "# Organizando uma Lista de Strings por Comprimento\n",
    "\n",
    "### Criando uma Lista de Nomes"
   ]
  },
  {
   "cell_type": "code",
   "execution_count": 2,
   "metadata": {},
   "outputs": [],
   "source": [
    "cientistas = [\n",
    "    'Dennis Ritchie', \n",
    "    'Bjarne Stroustrup', \n",
    "    'Alan Turing', \n",
    "    'John Von Neumann', \n",
    "    'Tim Berners-Lee', \n",
    "    'Claude Shannon', \n",
    "    'Edsger W. Dijkstra', \n",
    "    'Xah Lee'\n",
    "]"
   ]
  },
  {
   "cell_type": "markdown",
   "metadata": {},
   "source": [
    "### Organizando Lista de Cientistas por Comprimento de String\n",
    "\n",
    "Para concluirmos a ordenação, vamos combinar duas operações:\n",
    "\n",
    "- `lambda x: len(x)` que irá retornar o comprimento de cada string.\n",
    "\n",
    "- `sorted()` que irá organizar a lista.\n",
    "\n",
    "Vamos então ordenar a variável chamada **cientistas** pelo comprimento de cada string:"
   ]
  },
  {
   "cell_type": "code",
   "execution_count": 3,
   "metadata": {},
   "outputs": [
    {
     "data": {
      "text/plain": [
       "['Xah Lee',\n",
       " 'Alan Turing',\n",
       " 'Dennis Ritchie',\n",
       " 'Claude Shannon',\n",
       " 'Tim Berners-Lee',\n",
       " 'John Von Neumann',\n",
       " 'Bjarne Stroustrup',\n",
       " 'Edsger W. Dijkstra']"
      ]
     },
     "execution_count": 3,
     "metadata": {},
     "output_type": "execute_result"
    }
   ],
   "source": [
    "sorted(cientistas, key=lambda x: len(x))"
   ]
  }
 ],
 "metadata": {
  "kernelspec": {
   "display_name": "Python 3",
   "language": "python",
   "name": "python3"
  },
  "language_info": {
   "codemirror_mode": {
    "name": "ipython",
    "version": 3
   },
   "file_extension": ".py",
   "mimetype": "text/x-python",
   "name": "python",
   "nbconvert_exporter": "python",
   "pygments_lexer": "ipython3",
   "version": "3.7.10"
  }
 },
 "nbformat": 4,
 "nbformat_minor": 4
}
