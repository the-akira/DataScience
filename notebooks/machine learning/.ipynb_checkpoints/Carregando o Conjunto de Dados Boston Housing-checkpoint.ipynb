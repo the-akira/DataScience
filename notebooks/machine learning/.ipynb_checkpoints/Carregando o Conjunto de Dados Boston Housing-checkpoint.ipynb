{
 "cells": [
  {
   "cell_type": "markdown",
   "metadata": {},
   "source": [
    "# Carregando o Conjunto de Dados Boston Housing"
   ]
  },
  {
   "cell_type": "code",
   "execution_count": 1,
   "metadata": {},
   "outputs": [],
   "source": [
    "from sklearn import datasets\n",
    "import matplotlib.pyplot as plt "
   ]
  },
  {
   "cell_type": "markdown",
   "metadata": {},
   "source": [
    "### Carregando o Conjunto de Dados\n",
    "\n",
    "O conjunto de dados de habitação de Boston é um conjunto de dados famoso da década de 1970. Ele contém 506 observações sobre os preços da habitação em Boston. É frequentemente usado em exemplos de regressão e contém 15 características."
   ]
  },
  {
   "cell_type": "code",
   "execution_count": 3,
   "metadata": {},
   "outputs": [
    {
     "data": {
      "text/plain": [
       "array([6.320e-03, 1.800e+01, 2.310e+00, 0.000e+00, 5.380e-01, 6.575e+00,\n",
       "       6.520e+01, 4.090e+00, 1.000e+00, 2.960e+02, 1.530e+01, 3.969e+02,\n",
       "       4.980e+00])"
      ]
     },
     "execution_count": 3,
     "metadata": {},
     "output_type": "execute_result"
    }
   ],
   "source": [
    "# Carregando o conjunto de dados\n",
    "boston = datasets.load_boston()\n",
    "\n",
    "# Criando uma matriz de características\n",
    "X = boston.data\n",
    "\n",
    "# Criando um vetor alvo\n",
    "y = boston.target\n",
    "\n",
    "# Visualizando a primeira observação de valores de cada característica\n",
    "X[0]"
   ]
  },
  {
   "cell_type": "markdown",
   "metadata": {},
   "source": [
    "Como você pode ver, as características não estão padronizadas. Isso é mais facilmente visto se exibirmos os valores como decimais:"
   ]
  },
  {
   "cell_type": "code",
   "execution_count": 5,
   "metadata": {},
   "outputs": [
    {
     "data": {
      "text/plain": [
       "['0.006320',\n",
       " '18.000000',\n",
       " '2.310000',\n",
       " '0.000000',\n",
       " '0.538000',\n",
       " '6.575000',\n",
       " '65.200000',\n",
       " '4.090000',\n",
       " '1.000000',\n",
       " '296.000000',\n",
       " '15.300000',\n",
       " '396.900000',\n",
       " '4.980000']"
      ]
     },
     "execution_count": 5,
     "metadata": {},
     "output_type": "execute_result"
    }
   ],
   "source": [
    "# Apresenta cada valor da característica da primeira observação como ponto flutuante\n",
    "[f'{x:f}' for x in X[0]]"
   ]
  }
 ],
 "metadata": {
  "kernelspec": {
   "display_name": "Python 3",
   "language": "python",
   "name": "python3"
  },
  "language_info": {
   "codemirror_mode": {
    "name": "ipython",
    "version": 3
   },
   "file_extension": ".py",
   "mimetype": "text/x-python",
   "name": "python",
   "nbconvert_exporter": "python",
   "pygments_lexer": "ipython3",
   "version": "3.7.4"
  }
 },
 "nbformat": 4,
 "nbformat_minor": 2
}
