{
 "cells": [
  {
   "cell_type": "markdown",
   "metadata": {},
   "source": [
    "# Criando Dados Simulados para Classificação"
   ]
  },
  {
   "cell_type": "code",
   "execution_count": 1,
   "metadata": {},
   "outputs": [],
   "source": [
    "from sklearn.datasets import make_classification\n",
    "import pandas as pd"
   ]
  },
  {
   "cell_type": "markdown",
   "metadata": {},
   "source": [
    "### Criando Dados Simulados"
   ]
  },
  {
   "cell_type": "code",
   "execution_count": 8,
   "metadata": {},
   "outputs": [],
   "source": [
    "# Criando uma matriz de características simulada e imprime um vetor com 100 amostras\n",
    "features, output = make_classification(n_samples = 100,\n",
    "                                       # 10 características\n",
    "                                       n_features = 10,\n",
    "                                       # cinco características que na verdade preveem as classes de output\n",
    "                                       n_informative = 5,\n",
    "                                       # cinco características que são random e não relacionadas com as classes de output\n",
    "                                       n_redundant = 5,\n",
    "                                       # três classes de output\n",
    "                                       n_classes = 3,\n",
    "                                       # com 20% das observações na primeira classe, 30% na segunda classe e 50% na terceira.\n",
    "                                       weights = [.2, .3, .5])"
   ]
  },
  {
   "cell_type": "markdown",
   "metadata": {},
   "source": [
    "### Visualizando os Dados"
   ]
  },
  {
   "cell_type": "code",
   "execution_count": 9,
   "metadata": {},
   "outputs": [
    {
     "data": {
      "text/html": [
       "<div>\n",
       "<style scoped>\n",
       "    .dataframe tbody tr th:only-of-type {\n",
       "        vertical-align: middle;\n",
       "    }\n",
       "\n",
       "    .dataframe tbody tr th {\n",
       "        vertical-align: top;\n",
       "    }\n",
       "\n",
       "    .dataframe thead th {\n",
       "        text-align: right;\n",
       "    }\n",
       "</style>\n",
       "<table border=\"1\" class=\"dataframe\">\n",
       "  <thead>\n",
       "    <tr style=\"text-align: right;\">\n",
       "      <th></th>\n",
       "      <th>0</th>\n",
       "      <th>1</th>\n",
       "      <th>2</th>\n",
       "      <th>3</th>\n",
       "      <th>4</th>\n",
       "      <th>5</th>\n",
       "      <th>6</th>\n",
       "      <th>7</th>\n",
       "      <th>8</th>\n",
       "      <th>9</th>\n",
       "    </tr>\n",
       "  </thead>\n",
       "  <tbody>\n",
       "    <tr>\n",
       "      <th>0</th>\n",
       "      <td>0.471275</td>\n",
       "      <td>0.355218</td>\n",
       "      <td>0.594635</td>\n",
       "      <td>0.662250</td>\n",
       "      <td>1.134752</td>\n",
       "      <td>-1.688078</td>\n",
       "      <td>0.281323</td>\n",
       "      <td>0.654568</td>\n",
       "      <td>1.189429</td>\n",
       "      <td>-0.640459</td>\n",
       "    </tr>\n",
       "    <tr>\n",
       "      <th>1</th>\n",
       "      <td>-2.225249</td>\n",
       "      <td>-2.416639</td>\n",
       "      <td>0.371702</td>\n",
       "      <td>-0.820780</td>\n",
       "      <td>0.952928</td>\n",
       "      <td>1.993266</td>\n",
       "      <td>-1.749229</td>\n",
       "      <td>-1.616609</td>\n",
       "      <td>0.421212</td>\n",
       "      <td>-1.368299</td>\n",
       "    </tr>\n",
       "    <tr>\n",
       "      <th>2</th>\n",
       "      <td>-0.842707</td>\n",
       "      <td>-0.235480</td>\n",
       "      <td>2.278515</td>\n",
       "      <td>-0.083121</td>\n",
       "      <td>0.078810</td>\n",
       "      <td>-0.144287</td>\n",
       "      <td>-0.756535</td>\n",
       "      <td>-1.035828</td>\n",
       "      <td>0.736677</td>\n",
       "      <td>1.086377</td>\n",
       "    </tr>\n",
       "    <tr>\n",
       "      <th>3</th>\n",
       "      <td>3.948640</td>\n",
       "      <td>-2.833704</td>\n",
       "      <td>-1.639072</td>\n",
       "      <td>-5.372478</td>\n",
       "      <td>2.481711</td>\n",
       "      <td>2.779884</td>\n",
       "      <td>-3.035614</td>\n",
       "      <td>1.930955</td>\n",
       "      <td>-7.305742</td>\n",
       "      <td>1.128103</td>\n",
       "    </tr>\n",
       "    <tr>\n",
       "      <th>4</th>\n",
       "      <td>1.013594</td>\n",
       "      <td>0.229470</td>\n",
       "      <td>0.133786</td>\n",
       "      <td>-0.933721</td>\n",
       "      <td>-0.458181</td>\n",
       "      <td>0.667526</td>\n",
       "      <td>-1.164206</td>\n",
       "      <td>-0.636260</td>\n",
       "      <td>-1.423488</td>\n",
       "      <td>0.799139</td>\n",
       "    </tr>\n",
       "  </tbody>\n",
       "</table>\n",
       "</div>"
      ],
      "text/plain": [
       "          0         1         2         3         4         5         6  \\\n",
       "0  0.471275  0.355218  0.594635  0.662250  1.134752 -1.688078  0.281323   \n",
       "1 -2.225249 -2.416639  0.371702 -0.820780  0.952928  1.993266 -1.749229   \n",
       "2 -0.842707 -0.235480  2.278515 -0.083121  0.078810 -0.144287 -0.756535   \n",
       "3  3.948640 -2.833704 -1.639072 -5.372478  2.481711  2.779884 -3.035614   \n",
       "4  1.013594  0.229470  0.133786 -0.933721 -0.458181  0.667526 -1.164206   \n",
       "\n",
       "          7         8         9  \n",
       "0  0.654568  1.189429 -0.640459  \n",
       "1 -1.616609  0.421212 -1.368299  \n",
       "2 -1.035828  0.736677  1.086377  \n",
       "3  1.930955 -7.305742  1.128103  \n",
       "4 -0.636260 -1.423488  0.799139  "
      ]
     },
     "execution_count": 9,
     "metadata": {},
     "output_type": "execute_result"
    }
   ],
   "source": [
    "pd.DataFrame(features).head()"
   ]
  },
  {
   "cell_type": "code",
   "execution_count": 10,
   "metadata": {},
   "outputs": [
    {
     "data": {
      "text/html": [
       "<div>\n",
       "<style scoped>\n",
       "    .dataframe tbody tr th:only-of-type {\n",
       "        vertical-align: middle;\n",
       "    }\n",
       "\n",
       "    .dataframe tbody tr th {\n",
       "        vertical-align: top;\n",
       "    }\n",
       "\n",
       "    .dataframe thead th {\n",
       "        text-align: right;\n",
       "    }\n",
       "</style>\n",
       "<table border=\"1\" class=\"dataframe\">\n",
       "  <thead>\n",
       "    <tr style=\"text-align: right;\">\n",
       "      <th></th>\n",
       "      <th>0</th>\n",
       "    </tr>\n",
       "  </thead>\n",
       "  <tbody>\n",
       "    <tr>\n",
       "      <th>0</th>\n",
       "      <td>2</td>\n",
       "    </tr>\n",
       "    <tr>\n",
       "      <th>1</th>\n",
       "      <td>1</td>\n",
       "    </tr>\n",
       "    <tr>\n",
       "      <th>2</th>\n",
       "      <td>1</td>\n",
       "    </tr>\n",
       "    <tr>\n",
       "      <th>3</th>\n",
       "      <td>1</td>\n",
       "    </tr>\n",
       "    <tr>\n",
       "      <th>4</th>\n",
       "      <td>2</td>\n",
       "    </tr>\n",
       "  </tbody>\n",
       "</table>\n",
       "</div>"
      ],
      "text/plain": [
       "   0\n",
       "0  2\n",
       "1  1\n",
       "2  1\n",
       "3  1\n",
       "4  2"
      ]
     },
     "execution_count": 10,
     "metadata": {},
     "output_type": "execute_result"
    }
   ],
   "source": [
    "pd.DataFrame(output).head()"
   ]
  }
 ],
 "metadata": {
  "kernelspec": {
   "display_name": "Python 3",
   "language": "python",
   "name": "python3"
  },
  "language_info": {
   "codemirror_mode": {
    "name": "ipython",
    "version": 3
   },
   "file_extension": ".py",
   "mimetype": "text/x-python",
   "name": "python",
   "nbconvert_exporter": "python",
   "pygments_lexer": "ipython3",
   "version": "3.7.4"
  }
 },
 "nbformat": 4,
 "nbformat_minor": 2
}
