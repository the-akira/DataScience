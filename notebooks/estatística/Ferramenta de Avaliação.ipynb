{
 "cells": [
  {
   "cell_type": "code",
   "execution_count": 1,
   "metadata": {},
   "outputs": [],
   "source": [
    "from sklearn.datasets import load_boston \n",
    "from sklearn.linear_model import LinearRegression\n",
    "from sklearn.metrics import mean_squared_error\n",
    "import pandas as pd\n",
    "import numpy as np "
   ]
  },
  {
   "cell_type": "code",
   "execution_count": 16,
   "metadata": {},
   "outputs": [],
   "source": [
    "# Coletar os dados\n",
    "boston_dataset = load_boston()\n",
    "data = pd.DataFrame(data=boston_dataset.data, columns=boston_dataset.feature_names)\n",
    "features = data.drop(['INDUS','AGE'], axis=1)\n",
    "log_prices = np.log(boston_dataset.target)\n",
    "target = pd.DataFrame(log_prices, columns=['price'])"
   ]
  },
  {
   "cell_type": "code",
   "execution_count": 21,
   "metadata": {},
   "outputs": [],
   "source": [
    "CRIME_IDX = 0\n",
    "ZN_IDX = 1\n",
    "CHAS_IDX = 2\n",
    "RM_IDX = 4\n",
    "PTRATIO_IDX = 8\n",
    "\n",
    "# property_stats = np.ndarray(shape=(1, 11))\n",
    "# property_stats[0][CRIME_IDX] = features['CRIM'].mean()\n",
    "# property_stats[0][ZN_IDX] = features['ZN'].mean()\n",
    "# property_stats[0][CHAS_IDX] = features['CHAS'].mean()\n",
    "\n",
    "property_stats = features.mean().values.reshape(1, 11)"
   ]
  },
  {
   "cell_type": "code",
   "execution_count": 22,
   "metadata": {},
   "outputs": [],
   "source": [
    "regr = LinearRegression().fit(features, target)"
   ]
  },
  {
   "cell_type": "code",
   "execution_count": 23,
   "metadata": {},
   "outputs": [],
   "source": [
    "fitted_vals = regr.predict(features)"
   ]
  },
  {
   "cell_type": "code",
   "execution_count": 26,
   "metadata": {},
   "outputs": [],
   "source": [
    "MSE = mean_squared_error(target, fitted_vals)\n",
    "RMSE = np.sqrt(MSE)"
   ]
  },
  {
   "cell_type": "code",
   "execution_count": 44,
   "metadata": {},
   "outputs": [],
   "source": [
    "def get_log_estimate(nr_rooms, students_per_classroom, next_to_river=False, high_confidence=True):\n",
    "    # Configurar propriedade\n",
    "    property_stats[0][RM_IDX] = nr_rooms\n",
    "    property_stats[0][PTRATIO_IDX] = students_per_classroom\n",
    "    if next_to_river:\n",
    "        property_stats[0][CHAS_IDX] = 1\n",
    "    else:\n",
    "        property_stats[0][CHAS_IDX] = 0\n",
    "    # Executar previsão\n",
    "    log_estimate = regr.predict(property_stats)[0][0]\n",
    "    \n",
    "    # Calcular o Range\n",
    "    if high_confidence:\n",
    "        upper_bound = log_estimate + 2*RMSE\n",
    "        lower_bound = log_estimate - 2*RMSE\n",
    "        interval = 95\n",
    "    else:\n",
    "        upper_bound = log_estimate + RMSE\n",
    "        lower_bound = log_estimate - RMSE   \n",
    "        interval = 68\n",
    "    return log_estimate, upper_bound, lower_bound, interval"
   ]
  },
  {
   "cell_type": "code",
   "execution_count": 45,
   "metadata": {},
   "outputs": [
    {
     "data": {
      "text/plain": [
       "(2.7767581914803987, 3.1517824618746593, 2.401733921086138, 95)"
      ]
     },
     "execution_count": 45,
     "metadata": {},
     "output_type": "execute_result"
    }
   ],
   "source": [
    "get_log_estimate(3, 20, next_to_river=True)"
   ]
  },
  {
   "cell_type": "code",
   "execution_count": 46,
   "metadata": {},
   "outputs": [
    {
     "data": {
      "text/plain": [
       "(2.7767581914803987, 2.964270326677529, 2.5892460562832684, 68)"
      ]
     },
     "execution_count": 46,
     "metadata": {},
     "output_type": "execute_result"
    }
   ],
   "source": [
    "get_log_estimate(3, 20, next_to_river=True, high_confidence=False)"
   ]
  },
  {
   "cell_type": "code",
   "execution_count": 47,
   "metadata": {},
   "outputs": [
    {
     "data": {
      "text/plain": [
       "21.2"
      ]
     },
     "execution_count": 47,
     "metadata": {},
     "output_type": "execute_result"
    }
   ],
   "source": [
    "np.median(boston_dataset.target)"
   ]
  },
  {
   "cell_type": "code",
   "execution_count": 55,
   "metadata": {},
   "outputs": [
    {
     "name": "stdout",
     "output_type": "stream",
     "text": [
      "O valor estimado da propriedade é 827000.0\n",
      "Em 68% de confiança o valuation range é\n",
      "USD 685000.0 at the lower end to USD 997000.0 at the high end\n"
     ]
    }
   ],
   "source": [
    "ZILLOW_MEDIAN_PRICE = 583.3\n",
    "SCALE_FACTOR = ZILLOW_MEDIAN_PRICE/np.median(boston_dataset.target)\n",
    "log_est, upper, lower, conf = get_log_estimate(9, students_per_classroom=15, next_to_river=False, high_confidence=False)\n",
    "\n",
    "# Converter para o dólar atual\n",
    "dollar_est = np.e**log_est * 1000 * SCALE_FACTOR\n",
    "dollar_hi = np.e**upper * 1000 * SCALE_FACTOR\n",
    "dollar_low = np.e**lower * 1000 * SCALE_FACTOR\n",
    "\n",
    "# Arredondar os valores em dólares\n",
    "rounded_est = np.around(dollar_est, -3)\n",
    "rounded_hi = np.around(dollar_hi, -3)\n",
    "rounded_low = np.around(dollar_low, -3)\n",
    "\n",
    "print(f'O valor estimado da propriedade é {rounded_est}')\n",
    "print(f'Em {conf}% de confiança o valuation range é')\n",
    "print(f'USD {rounded_low} at the lower end to USD {rounded_hi} at the high end')"
   ]
  },
  {
   "cell_type": "code",
   "execution_count": 70,
   "metadata": {},
   "outputs": [],
   "source": [
    "def get_dollar_estimate(rm, ptratio, chas=False, large_range=True):\n",
    "    \"\"\"\n",
    "    Estimate the price of property in Boston\n",
    "    \n",
    "    Keyword Arguments:\n",
    "    rm -- number of rooms in the property\n",
    "    ptratio -- number of students per teacher in the classroom for the school in the area\n",
    "    chas -- True if the property is next to the river, False otherwise\n",
    "    large_range -- True for 95% prediction interval, False for 68% interval\n",
    "    \"\"\"\n",
    "    if rm < 1 or ptratio < 1:\n",
    "        print('That is unrealistic. Try Again')\n",
    "        return\n",
    "    \n",
    "    log_est, upper, lower, conf = get_log_estimate(rm, students_per_classroom=ptratio, next_to_river=chas, high_confidence=large_range)\n",
    "\n",
    "    # Converter para o dólar atual\n",
    "    dollar_est = np.e**log_est * 1000 * SCALE_FACTOR\n",
    "    dollar_hi = np.e**upper * 1000 * SCALE_FACTOR\n",
    "    dollar_low = np.e**lower * 1000 * SCALE_FACTOR\n",
    "\n",
    "    # Arredondar os valores em dólares\n",
    "    rounded_est = np.around(dollar_est, -3)\n",
    "    rounded_hi = np.around(dollar_hi, -3)\n",
    "    rounded_low = np.around(dollar_low, -3)\n",
    "\n",
    "    print(f'O valor estimado da propriedade é {rounded_est}')\n",
    "    print(f'Em {conf}% de confiança o valuation range é')\n",
    "    print(f'USD {rounded_low} at the lower end to USD {rounded_hi} at the high end')"
   ]
  },
  {
   "cell_type": "code",
   "execution_count": 71,
   "metadata": {},
   "outputs": [
    {
     "name": "stdout",
     "output_type": "stream",
     "text": [
      "O valor estimado da propriedade é 188000.0\n",
      "Em 95% de confiança o valuation range é\n",
      "USD 129000.0 at the lower end to USD 274000.0 at the high end\n"
     ]
    }
   ],
   "source": [
    "get_dollar_estimate(rm=3, ptratio=40)"
   ]
  }
 ],
 "metadata": {
  "kernelspec": {
   "display_name": "Python 3",
   "language": "python",
   "name": "python3"
  },
  "language_info": {
   "codemirror_mode": {
    "name": "ipython",
    "version": 3
   },
   "file_extension": ".py",
   "mimetype": "text/x-python",
   "name": "python",
   "nbconvert_exporter": "python",
   "pygments_lexer": "ipython3",
   "version": "3.6.9"
  }
 },
 "nbformat": 4,
 "nbformat_minor": 4
}
