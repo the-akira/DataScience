{
 "cells": [
  {
   "cell_type": "markdown",
   "metadata": {},
   "source": [
    "# Visualizando o Teorema do Limite Central com Python\n",
    "\n",
    "Por que é tão importante conhecer a distribuição de dados?\n",
    "\n",
    "A resposta a essa pergunta se baseia no objetivo de muitos tipos estatísticos de pesquisa, ou seja, conhecer algo mais sobre um objetivo, geralmente chamado de população. A ressalva é que muitas vezes é impraticável (ou mesmo impossível) observar toda a população do seu projeto. Imagine que você deseja saber o peso médio de homens com idades entre 40 e 50 anos. Você acha que poderá entrevistar todos os homens do mundo que possuem esses recursos?\n",
    "\n",
    "A impossibilidade de observar toda a população é a razão pela qual precisamos de amostras. O procedimento de amostragem consiste em selecionar dentre toda a população um subconjunto que, idealmente, deve ser representativo da população inicial. Ao fazer isso, queremos fazer inferências sobre nossa população objetiva a partir das informações contidas em nossa amostra.\n",
    "\n",
    "Uma forma de resolução do problema é coletar dados de um subconjunto ou amostra de homens, considerando diferentes nacionalidades para que a amostra não seja tendenciosa. Portanto, obteremos uma média da amostra que deve se aproximar da média da população.\n",
    "\n",
    "No entanto, como podemos ter certeza da precisão desse resultado? Por definições, os estatísticos nunca têm certeza, é por isso que precisamos testar a robustez de nossos resultados, executando os chamados testes de hipótese. Esses últimos nos permitem afirmar se podemos rejeitar ou não nossa hipótese nula (no nosso caso, isso seria 'a média da amostra é uma boa estimativa do parâmetro real').\n",
    "\n",
    "E, para isso, precisamos conhecer a distribuição de nossos dados. É por isso que o Teorema Central do Limite (CLT) é tão importante.\n",
    "\n",
    "A ideia do CLT é a seguinte: vamos coletar x amostras de cada tamanho n e calcular a média da amostra para cada amostra. Então, (de acordo com algumas suposições que veremos em um minuto), se traçarmos todas as médias da amostra, elas deverão seguir uma distribuição Normal. Além disso, a média de todas as médias da amostra deve ser quase igual ao parâmetro real de toda a população.\n",
    "\n",
    "- O procedimento de amostragem deve ser executado aleatoriamente\n",
    "- As amostras devem ser independentes entre si\n",
    "- O tamanho da amostra não deve exceder 10% da população quando a amostragem é feita sem substituição\n",
    "- O tamanho da amostra deve ser suficientemente grande (normalmente, um tamanho de n = 30 é considerado suficientemente grande, mesmo que dependa realmente da população inicial)\n",
    "\n",
    "Se essas suposições forem consideradas verdadeiras, o CLT permitirá que você faça inferências sobre sua população inicial. Além disso, quanto maior o tamanho de suas amostras, mais evidente será o formato de sino da distribuição média da amostra.\n",
    "\n",
    "Vejamos um exemplo em Python, vamos criar amostras aleatórias de alturas de homens"
   ]
  },
  {
   "cell_type": "code",
   "execution_count": 1,
   "metadata": {},
   "outputs": [
    {
     "name": "stdout",
     "output_type": "stream",
     "text": [
      "[65 71 72 68 69 71 65 75 60 76 61 72 67 73 88 66 85 78 80 65 78 80 71 88\n",
      " 70 88 89 74 78 64 83 83 69 77 83 60 82 73 69 69 67 89 82 85 61 60 88 77\n",
      " 68 84]\n",
      "The average weight is 74.32 kg\n"
     ]
    }
   ],
   "source": [
    "from numpy.random import seed\n",
    "from numpy.random import randint\n",
    "from numpy import mean\n",
    "\n",
    "# seed the random number generator, so that the experiment is #replicable\n",
    "seed(1)\n",
    "\n",
    "# generate a sample of men's weights\n",
    "weights = randint(60, 90, 50)\n",
    "\n",
    "print(weights)\n",
    "print('The average weight is {} kg'.format(mean(weights)))"
   ]
  },
  {
   "cell_type": "code",
   "execution_count": 11,
   "metadata": {},
   "outputs": [
    {
     "data": {
      "image/png": "[encoded data removed]",
      "text/plain": [
       "<Figure size 648x432 with 1 Axes>"
      ]
     },
     "metadata": {
      "needs_background": "light"
     },
     "output_type": "display_data"
    },
    {
     "name": "stdout",
     "output_type": "stream",
     "text": [
      "The mean of the sample means is 74.54001999999998\n"
     ]
    }
   ],
   "source": [
    "import matplotlib.pyplot as plt\n",
    "import matplotlib\n",
    "matplotlib.style.use('ggplot')\n",
    "%matplotlib inline\n",
    "\n",
    "# seed the random number generator, so that the experiment is replicable\n",
    "seed(1)\n",
    "\n",
    "# calculate the mean of 50 men's weights 1000 times\n",
    "means = [mean(randint(60, 90, 50)) for _i in range(1000)]\n",
    "\n",
    "# plot the distribution of sample means\n",
    "plt.figure(figsize=(9,6))\n",
    "plt.hist(means, color='blue', edgecolor='black')\n",
    "plt.show()\n",
    "print('The mean of the sample means is {}'.format(mean(means)))"
   ]
  },
  {
   "cell_type": "markdown",
   "metadata": {},
   "source": [
    "Segundo o CLT, a média da média da amostra (74,54) deve ser uma boa estimativa do parâmetro real (que é desconhecido).\n",
    "\n",
    "Para ter certeza de nosso resultado, vamos executar um teste de normalidade em nossos dados.\n",
    "\n",
    "**H0:** os dados seguem uma distribuição Normal\n",
    "\n",
    "**H1:** os dados não seguem uma distribuição normal\n",
    "\n",
    "Portanto, se nossa amostra significa seguir uma distribuição normal, não rejeitaremos o nulo."
   ]
  },
  {
   "cell_type": "code",
   "execution_count": 4,
   "metadata": {},
   "outputs": [
    {
     "name": "stdout",
     "output_type": "stream",
     "text": [
      "Statistics=0.9982803463935852, p=0.4203375577926636\n",
      "Sample looks Normal (do not reject H0)\n"
     ]
    }
   ],
   "source": [
    "from scipy.stats import shapiro\n",
    "\n",
    "stat, p = shapiro(means)\n",
    "print('Statistics={}, p={}'.format(stat, p))\n",
    "alpha = 0.05\n",
    "\n",
    "if p > alpha:\n",
    "    print('Sample looks Normal (do not reject H0)')\n",
    "else:\n",
    "    print('Sample does not look Normal (reject H0)')"
   ]
  },
  {
   "cell_type": "markdown",
   "metadata": {},
   "source": [
    "Como o valor-p é muito maior que nosso nível de confiança alfa (especificamente, é maior que qualquer nível significativo de alfa), não rejeitamos H0.\n",
    "\n",
    "Agora vamos ver o que acontece se aumentarmos o tamanho da amostra de 50 para, respectivamente, 80, 90 e 100:"
   ]
  },
  {
   "cell_type": "code",
   "execution_count": 13,
   "metadata": {},
   "outputs": [
    {
     "data": {
      "image/png": "[encoded data removed]",
      "text/plain": [
       "<Figure size 648x432 with 1 Axes>"
      ]
     },
     "metadata": {
      "needs_background": "light"
     },
     "output_type": "display_data"
    },
    {
     "name": "stdout",
     "output_type": "stream",
     "text": [
      "The mean of the sample means is 74.54565000000001\n"
     ]
    }
   ],
   "source": [
    "import matplotlib.pyplot as plt\n",
    "%matplotlib inline\n",
    "\n",
    "# seed the random number generator, so that the experiment is replicable\n",
    "seed(1)\n",
    "\n",
    "# calculate the mean of 100 men's weights 1000 times\n",
    "means = [mean(randint(60, 90, 100)) for _i in range(1000)]\n",
    "\n",
    "# plot the distribution of sample means\n",
    "plt.figure(figsize=(9,6))\n",
    "plt.hist(means, color='blue', edgecolor='black')\n",
    "plt.show()\n",
    "print('The mean of the sample means is {}'.format(mean(means)))"
   ]
  },
  {
   "cell_type": "code",
   "execution_count": 14,
   "metadata": {},
   "outputs": [
    {
     "data": {
      "image/png": "[encoded data removed]",
      "text/plain": [
       "<Figure size 648x432 with 1 Axes>"
      ]
     },
     "metadata": {
      "needs_background": "light"
     },
     "output_type": "display_data"
    },
    {
     "name": "stdout",
     "output_type": "stream",
     "text": [
      "The mean of the sample means is 74.556\n"
     ]
    }
   ],
   "source": [
    "import matplotlib.pyplot as plt\n",
    "%matplotlib inline\n",
    "\n",
    "# seed the random number generator, so that the experiment is replicable\n",
    "seed(1)\n",
    "\n",
    "# calculate the mean of 80 men's weights 1000 times\n",
    "means = [mean(randint(60, 90, 80)) for _i in range(1000)]\n",
    "\n",
    "# plot the distribution of sample means\n",
    "plt.figure(figsize=(9,6))\n",
    "plt.hist(means, color='blue', edgecolor='black')\n",
    "plt.show()\n",
    "print('The mean of the sample means is {}'.format(mean(means)))"
   ]
  },
  {
   "cell_type": "markdown",
   "metadata": {},
   "source": [
    "Como você pode ver, quanto maior o tamanho da amostra n, maior o valor-p, maior a confiança com a qual não rejeitamos a hipótese nula de normalidade."
   ]
  }
 ],
 "metadata": {
  "kernelspec": {
   "display_name": "Python 3",
   "language": "python",
   "name": "python3"
  },
  "language_info": {
   "codemirror_mode": {
    "name": "ipython",
    "version": 3
   },
   "file_extension": ".py",
   "mimetype": "text/x-python",
   "name": "python",
   "nbconvert_exporter": "python",
   "pygments_lexer": "ipython3",
   "version": "3.7.4"
  }
 },
 "nbformat": 4,
 "nbformat_minor": 2
}
