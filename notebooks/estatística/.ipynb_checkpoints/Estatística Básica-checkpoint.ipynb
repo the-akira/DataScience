{
 "cells": [
  {
   "cell_type": "markdown",
   "metadata": {},
   "source": [
    "# Estatística Básica com Python\n",
    "\n",
    "Vamos criar um conjunto de dados para trabalharmos e vamos plotar um gráfico histograma para visualização"
   ]
  },
  {
   "cell_type": "code",
   "execution_count": 1,
   "metadata": {},
   "outputs": [],
   "source": [
    "# Começamos importando as bibliotecas necessárias\n",
    "import numpy as np\n",
    "import matplotlib\n",
    "import matplotlib.pyplot as plt \n",
    "from scipy import stats\n",
    "from collections import Counter\n",
    "\n",
    "%matplotlib inline\n",
    "matplotlib.style.use('ggplot')"
   ]
  },
  {
   "cell_type": "code",
   "execution_count": 25,
   "metadata": {},
   "outputs": [
    {
     "name": "stdout",
     "output_type": "stream",
     "text": [
      "[8. 4. 4. 3. 7. 0. 8. 3. 6. 5. 8. 1. 4. 4. 7. 3. 5. 3. 5. 6. 3. 7. 7. 6.\n",
      " 7. 4. 5. 3. 4. 6. 4. 4. 4. 3. 4. 5. 3. 5. 8. 6. 5. 3. 4. 8. 5. 4. 5. 9.\n",
      " 5. 6. 6. 4. 3. 4. 5. 6. 7. 7. 6. 7. 3. 8. 6. 4. 6. 5. 7. 8. 9. 2. 2. 4.\n",
      " 5. 7. 6. 1. 4. 7. 5. 7. 5. 5. 5. 6. 5. 5. 4. 6. 5. 7. 7. 5. 4. 4. 6. 5.\n",
      " 4. 5. 4. 6.]\n",
      "Counter({5.0: 23, 4.0: 22, 6.0: 16, 7.0: 14, 3.0: 11, 8.0: 7, 1.0: 2, 9.0: 2, 2.0: 2, 0.0: 1})\n"
     ]
    }
   ],
   "source": [
    "np.random.seed(1)\n",
    "data = np.round(np.random.normal(5, 2, 100))\n",
    "print(data) # Imprime os dados\n",
    "print(Counter(data)) # Imprime o número de ocorrẽncias de cada número"
   ]
  },
  {
   "cell_type": "code",
   "execution_count": 26,
   "metadata": {},
   "outputs": [
    {
     "data": {
      "image/png": "[encoded data removed]",
      "text/plain": [
       "<Figure size 648x432 with 1 Axes>"
      ]
     },
     "metadata": {},
     "output_type": "display_data"
    }
   ],
   "source": [
    "plt.figure(figsize=(9,6))\n",
    "plt.hist(data, bins=10, range=(0,10), color='blue', edgecolor='black')\n",
    "plt.show()"
   ]
  },
  {
   "cell_type": "markdown",
   "metadata": {},
   "source": [
    "# Medidas de Tendência Central\n",
    "\n",
    "Nossas medidas de tendência central incluem \n",
    "\n",
    "- média \n",
    "- mediana\n",
    "- moda\n",
    "\n",
    "#### A média é calculada como\n",
    "\n",
    "$\\mu = \\dfrac{\\sum_{i=1}^{N} x_i}{N}$\n",
    "\n",
    "#### O valor mediano é o valor do meio, você assume o valor na posição de $\\dfrac{n+1}{2}$ com os dados organizados\n",
    "\n",
    "#### A moda é o valor mais frequente"
   ]
  },
  {
   "cell_type": "markdown",
   "metadata": {},
   "source": [
    "# Média\n",
    "\n",
    "NumPy implementa uma função `mean()` para calcularmos a média"
   ]
  },
  {
   "cell_type": "code",
   "execution_count": 17,
   "metadata": {},
   "outputs": [],
   "source": [
    "media = np.mean(data)"
   ]
  },
  {
   "cell_type": "code",
   "execution_count": 18,
   "metadata": {},
   "outputs": [
    {
     "data": {
      "text/plain": [
       "5.1"
      ]
     },
     "execution_count": 18,
     "metadata": {},
     "output_type": "execute_result"
    }
   ],
   "source": [
    "media"
   ]
  },
  {
   "cell_type": "markdown",
   "metadata": {},
   "source": [
    "# Mediana\n",
    "\n",
    "NumPy implementa uma função `median()` capaz de calcular a mediana"
   ]
  },
  {
   "cell_type": "code",
   "execution_count": 19,
   "metadata": {},
   "outputs": [],
   "source": [
    "mediana = np.median(data)"
   ]
  },
  {
   "cell_type": "code",
   "execution_count": 20,
   "metadata": {},
   "outputs": [
    {
     "data": {
      "text/plain": [
       "5.0"
      ]
     },
     "execution_count": 20,
     "metadata": {},
     "output_type": "execute_result"
    }
   ],
   "source": [
    "mediana"
   ]
  },
  {
   "cell_type": "markdown",
   "metadata": {},
   "source": [
    "# Moda\n",
    "\n",
    "Através de nosso histograma podemos perceber que o número com mais ocorrências é o 5, sendo ele assim, a moda.\n",
    "\n",
    "No módulo `stats` da biblioteca `scipy` temos uma função que pode fazer o cálculo da moda"
   ]
  },
  {
   "cell_type": "code",
   "execution_count": 27,
   "metadata": {},
   "outputs": [],
   "source": [
    "moda = stats.mode(data)"
   ]
  },
  {
   "cell_type": "code",
   "execution_count": 28,
   "metadata": {},
   "outputs": [
    {
     "data": {
      "text/plain": [
       "ModeResult(mode=array([5.]), count=array([23]))"
      ]
     },
     "execution_count": 28,
     "metadata": {},
     "output_type": "execute_result"
    }
   ],
   "source": [
    "moda"
   ]
  },
  {
   "cell_type": "markdown",
   "metadata": {},
   "source": [
    "Podemos ainda apresentar de uma maneira mais adequada"
   ]
  },
  {
   "cell_type": "code",
   "execution_count": 32,
   "metadata": {},
   "outputs": [
    {
     "name": "stdout",
     "output_type": "stream",
     "text": [
      "O valor da moda é 5.0 com uma ocorrência de 23\n"
     ]
    }
   ],
   "source": [
    "print(f'O valor da moda é {moda.mode[0]} com uma ocorrência de {moda.count[0]}')"
   ]
  },
  {
   "cell_type": "markdown",
   "metadata": {},
   "source": [
    "# Intervalo\n",
    "\n",
    "O intervalo fornece uma medida do quão espalhados os valores estão.\n",
    "\n",
    "O intervalo é simplesmente calculado como o `valor máximo - valor mínimo`\n",
    "\n",
    "$Max(x_i) – Min(x_i)$\n",
    "\n",
    "NumPy implementa-o como uma função ponto a ponto"
   ]
  },
  {
   "cell_type": "code",
   "execution_count": 34,
   "metadata": {},
   "outputs": [
    {
     "data": {
      "text/plain": [
       "9.0"
      ]
     },
     "execution_count": 34,
     "metadata": {},
     "output_type": "execute_result"
    }
   ],
   "source": [
    "np.ptp(data)"
   ]
  },
  {
   "cell_type": "markdown",
   "metadata": {},
   "source": [
    "# Variância\n",
    "\n",
    "Variância é uma medida de quão variável os dados são, ela é calculada da seguinte forma:\n",
    "\n",
    "$\\sigma^2 = \\dfrac{\\sum_{i=1}^{N} (x_i – \\mu)^2}{N}$\n",
    "\n",
    "NumPy implementa o cálculo da variância através da função `np.var()`"
   ]
  },
  {
   "cell_type": "code",
   "execution_count": 35,
   "metadata": {},
   "outputs": [
    {
     "data": {
      "text/plain": [
       "3.07"
      ]
     },
     "execution_count": 35,
     "metadata": {},
     "output_type": "execute_result"
    }
   ],
   "source": [
    "np.var(data)"
   ]
  },
  {
   "cell_type": "markdown",
   "metadata": {},
   "source": [
    "# Desvio Padrão\n",
    "\n",
    "A variância pode ser muito grande para conjuntos de dados grandes, portanto, usaremos frequentemente o desvio padrão, que é a raiz quadrada da variância:\n",
    "\n",
    "$\\sigma = \\sqrt{\\sigma^2}$\n",
    "\n",
    "**68,2%** dos dados estão dentro de 1 desvio padrão da média, **95,4%** estão dentro de 2 desvios padrão da média e **99,7%** estão dentro de 3 desvios padrão.\n",
    "\n",
    "Podemos calcular o desvio padrão em NumPy através da função `np.std()`"
   ]
  },
  {
   "cell_type": "code",
   "execution_count": 36,
   "metadata": {},
   "outputs": [
    {
     "data": {
      "text/plain": [
       "1.752141546793523"
      ]
     },
     "execution_count": 36,
     "metadata": {},
     "output_type": "execute_result"
    }
   ],
   "source": [
    "np.std(data)"
   ]
  },
  {
   "cell_type": "markdown",
   "metadata": {},
   "source": [
    "# Erro Padrão\n",
    "\n",
    "O erro padrão da média estima a **variabilidade** entre as médias da amostra que você obteria se tirasse várias amostras da mesma população. \n",
    "\n",
    "O erro padrão da média estima a **variabilidade** entre as amostras, enquanto o desvio padrão mede a variabilidade em uma única amostra.\n",
    "\n",
    "É calculado como:\n",
    "\n",
    "$SE = \\dfrac{s}{\\sqrt{n}}$\n",
    "\n",
    "Onde $s$ é o desvio padrão da amostra. \n",
    "\n",
    "Podemos calcular o Erro Padrão através da função `sem()` do módulo SciPy"
   ]
  },
  {
   "cell_type": "code",
   "execution_count": 37,
   "metadata": {},
   "outputs": [
    {
     "data": {
      "text/plain": [
       "0.1760968512214259"
      ]
     },
     "execution_count": 37,
     "metadata": {},
     "output_type": "execute_result"
    }
   ],
   "source": [
    "stats.sem(data)"
   ]
  },
  {
   "cell_type": "markdown",
   "metadata": {},
   "source": [
    "Portanto, se tivéssemos colhido várias amostras da mesma população, esperaríamos que o desvio padrão das médias dessas amostras fosse **0,176**"
   ]
  }
 ],
 "metadata": {
  "kernelspec": {
   "display_name": "Python 3",
   "language": "python",
   "name": "python3"
  },
  "language_info": {
   "codemirror_mode": {
    "name": "ipython",
    "version": 3
   },
   "file_extension": ".py",
   "mimetype": "text/x-python",
   "name": "python",
   "nbconvert_exporter": "python",
   "pygments_lexer": "ipython3",
   "version": "3.6.9"
  }
 },
 "nbformat": 4,
 "nbformat_minor": 4
}
