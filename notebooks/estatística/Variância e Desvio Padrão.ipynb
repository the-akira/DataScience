{
 "cells": [
  {
   "cell_type": "markdown",
   "metadata": {},
   "source": [
    "# Variância e Desvio Padrão\n",
    "\n",
    "Começamos importando as bibliotecas necessárias"
   ]
  },
  {
   "cell_type": "code",
   "execution_count": 1,
   "metadata": {},
   "outputs": [],
   "source": [
    "from random import randint\n",
    "from collections import Counter\n",
    "import matplotlib.pyplot as plt\n",
    "import matplotlib\n",
    "matplotlib.style.use('ggplot')\n",
    "import math"
   ]
  },
  {
   "cell_type": "markdown",
   "metadata": {},
   "source": [
    "### Criando os Dados"
   ]
  },
  {
   "cell_type": "code",
   "execution_count": 2,
   "metadata": {},
   "outputs": [
    {
     "name": "stdout",
     "output_type": "stream",
     "text": [
      "[7, 10, 8, 2, 7, 4, 12, 14, 20, 1, 8, 0, 13, 11, 16, 20, 0, 18, 5, 20, 12, 3, 5, 2, 5, 4, 16, 10, 9, 7, 20, 5, 16, 17, 6, 2, 1, 15, 12, 13, 1, 7, 4, 8, 11]\n"
     ]
    }
   ],
   "source": [
    "data = [randint(0, 20) for _ in range(45)]\n",
    "print(data)"
   ]
  },
  {
   "cell_type": "markdown",
   "metadata": {},
   "source": [
    "### Contagem dos Dados"
   ]
  },
  {
   "cell_type": "code",
   "execution_count": 3,
   "metadata": {},
   "outputs": [
    {
     "data": {
      "text/plain": [
       "{7: 4,\n",
       " 10: 2,\n",
       " 8: 3,\n",
       " 2: 3,\n",
       " 4: 3,\n",
       " 12: 3,\n",
       " 14: 1,\n",
       " 20: 4,\n",
       " 1: 3,\n",
       " 0: 2,\n",
       " 13: 2,\n",
       " 11: 2,\n",
       " 16: 3,\n",
       " 18: 1,\n",
       " 5: 4,\n",
       " 3: 1,\n",
       " 9: 1,\n",
       " 17: 1,\n",
       " 6: 1,\n",
       " 15: 1}"
      ]
     },
     "execution_count": 3,
     "metadata": {},
     "output_type": "execute_result"
    }
   ],
   "source": [
    "contagem = dict(Counter(data))\n",
    "contagem"
   ]
  },
  {
   "cell_type": "markdown",
   "metadata": {},
   "source": [
    "### Visualizando os Dados \n",
    "\n",
    "Para termos uma intuição melhor da distribuição dos dados, vamos visualizá-lo"
   ]
  },
  {
   "cell_type": "code",
   "execution_count": 8,
   "metadata": {},
   "outputs": [
    {
     "data": {
      "image/png": "[encoded data removed]",
      "text/plain": [
       "<Figure size 864x648 with 1 Axes>"
      ]
     },
     "metadata": {},
     "output_type": "display_data"
    }
   ],
   "source": [
    "plt.figure(figsize=(12,9))\n",
    "plt.hist(data, color='g', edgecolor='black', bins=20)\n",
    "plt.show()"
   ]
  },
  {
   "cell_type": "markdown",
   "metadata": {},
   "source": [
    "### Calculando a Variância da População\n",
    "\n",
    "Variação é uma medida da propagação da distribuição de dados. Quanto maior a variação, mais \"espalhados\" são os pontos de dados. A variação, geralmente denominada $S^2$. \n",
    "\n",
    "Ela pode ser calculada da seguinte forma:\n",
    "\n",
    "$\n",
    "\\text{Variancia da Populacao} = S_n^{2} = \\frac{1}{n}\\sum_{i=1}^{n}(x_i-\\bar{x})^{2}\n",
    "$\n",
    "\n",
    "$\n",
    "\\text{Variancia da Amostra} = S_{n-1}^{2} = \\frac{1}{n-1}\\sum_{i=1}^{n}(x_i-\\bar{x})^{2}\n",
    "$\n",
    "\n",
    "Onde $n$ é o número de observações, $\\bar{x}$ é a média das observações e $x_i-\\bar{x}$ é uma observação individual a partir da média dos dados. Observe que, se estivéssemos estimando a variação de uma população com base em uma amostra dessa população, deveríamos usar a segunda equação, substituindo $n$ por $n-1$."
   ]
  },
  {
   "cell_type": "code",
   "execution_count": 71,
   "metadata": {},
   "outputs": [
    {
     "name": "stdout",
     "output_type": "stream",
     "text": [
      "10.222222222222221\n",
      "32.08395061728394\n"
     ]
    }
   ],
   "source": [
    "# Calculando n\n",
    "n = len(data)\n",
    "\n",
    "# Calculando a média\n",
    "mean = sum(data)/len(data)\n",
    "\n",
    "# Cria uma lista de todos os desvios da média\n",
    "all_deviations_from_mean_squared = []\n",
    "\n",
    "# Para cada observação nos dados\n",
    "for observation in data:\n",
    "    \n",
    "    # Calcula o desvio da média\n",
    "    deviation_from_mean = (observation - mean)\n",
    "    \n",
    "    # Eleva-o ao quadrado\n",
    "    deviation_from_mean_squared = deviation_from_mean**2\n",
    "    \n",
    "    # Adiciona o resultado à nossa lista\n",
    "    all_deviations_from_mean_squared.append(deviation_from_mean_squared)\n",
    "\n",
    "# Soma todos os desvios ao quadrado em nossa lista\n",
    "sum_of_deviations_from_mean_squared = sum(all_deviations_from_mean_squared)\n",
    "\n",
    "# Divide por n\n",
    "population_variance = sum_of_deviations_from_mean_squared/n\n",
    "\n",
    "# Imprime a média\n",
    "print(mean)\n",
    "\n",
    "# Imprime a variância\n",
    "print(population_variance)"
   ]
  },
  {
   "cell_type": "markdown",
   "metadata": {},
   "source": [
    "### Calcular desvio padrão da população\n",
    "\n",
    "O desvio padrão é apenas a raiz quadrada da variação."
   ]
  },
  {
   "cell_type": "code",
   "execution_count": 72,
   "metadata": {},
   "outputs": [
    {
     "data": {
      "text/plain": [
       "5.6642696455310055"
      ]
     },
     "execution_count": 72,
     "metadata": {},
     "output_type": "execute_result"
    }
   ],
   "source": [
    "# Buscamos a raiz quadrada da variância da população\n",
    "population_standard_deviation = math.sqrt(population_variance)\n",
    "\n",
    "# Imprime o desvio padrão da população\n",
    "population_standard_deviation"
   ]
  }
 ],
 "metadata": {
  "kernelspec": {
   "display_name": "Python 3",
   "language": "python",
   "name": "python3"
  },
  "language_info": {
   "codemirror_mode": {
    "name": "ipython",
    "version": 3
   },
   "file_extension": ".py",
   "mimetype": "text/x-python",
   "name": "python",
   "nbconvert_exporter": "python",
   "pygments_lexer": "ipython3",
   "version": "3.6.9"
  }
 },
 "nbformat": 4,
 "nbformat_minor": 4
}
