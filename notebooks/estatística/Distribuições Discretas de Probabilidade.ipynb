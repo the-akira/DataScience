{
 "cells": [
  {
   "cell_type": "markdown",
   "metadata": {},
   "source": [
    "# Bernoulli e Binomial\n",
    "\n",
    "Uma distribuição de Bernoulli é a distribuição de probabilidade de uma variável aleatória que assume o valor `1` com probabilidade `p` e o valor `0` com probabilidade `1 - p`:\n",
    "\n",
    "$\n",
    "\\begin{cases} \n",
    "1-p & \\text{para}\\ k=0 \\\\ \n",
    "p & \\text{para}\\ k=1  \\\\ \n",
    "\\end{cases}\n",
    "$\n",
    "\n",
    "Vamos usar o exemplo de canhoto. Aproximadamente 10% da população é canhoto (p = 0,1).\n",
    "\n",
    "Queremos saber, de uma amostra aleatória de 10 pessoas, qual é a probabilidade de 3 dessas 10 pessoas serem canhotas?\n",
    "\n",
    "Atribuímos um 1 a cada pessoa se for canhoto e 0 caso contrário:\n",
    "\n",
    "$P(X=1) = 0.1$\n",
    "$P(X=0) = 0.9$\n",
    "\n",
    "Uma distribuição Binomial é derivada da distribuição de Bernoulli.\n",
    "\n",
    "Vamos iniciar com um problema simples\n",
    "\n",
    "Qual é a probabilidade das três primeiras pessoas que escolhemos serem canhotos, seguidas por sete pessoas destras?\n",
    "\n",
    "Isso seria $0.1 ^3 \\times 0.9 ^7$"
   ]
  },
  {
   "cell_type": "code",
   "execution_count": 1,
   "metadata": {},
   "outputs": [
    {
     "data": {
      "text/plain": [
       "0.0004782969000000002"
      ]
     },
     "execution_count": 1,
     "metadata": {},
     "output_type": "execute_result"
    }
   ],
   "source": [
    "0.1 ** 3 * 0.9 ** 7"
   ]
  },
  {
   "cell_type": "markdown",
   "metadata": {},
   "source": [
    "E se quiséssemos que as três últimas pessoas fossem canhotas?\n",
    "\n",
    "A representação seria $0.9^7 \\times 0.1^3$, ou seja, a mesma resposta"
   ]
  },
  {
   "cell_type": "code",
   "execution_count": 2,
   "metadata": {},
   "outputs": [
    {
     "data": {
      "text/plain": [
       "0.0004782969000000002"
      ]
     },
     "execution_count": 2,
     "metadata": {},
     "output_type": "execute_result"
    }
   ],
   "source": [
    "0.9 ** 7 * 0.1 ** 3"
   ]
  },
  {
   "cell_type": "markdown",
   "metadata": {},
   "source": [
    "De fato, não importa como organizamos as três pessoas, sempre teremos a mesma probabilidade $(4.7 \\times 10^{-4})$\n",
    "\n",
    "Portanto, temos que somar todas as maneiras pelas quais podemos organizar as 3 pessoas escolhidas.\n",
    "\n",
    "Existem $10!$ maneiras de organizar $10$ pessoas e existem $3!$ maneiras de organizar as $3$ pessoas escolhidas e as $7!$ maneiras de organizar as $7$ pessoas que não foram escolhidas.\n",
    "\n",
    "Podemos representar da seguinte forma\n",
    "\n",
    "$\\dfrac{10!}{3!\\ 7!}$"
   ]
  },
  {
   "cell_type": "code",
   "execution_count": 3,
   "metadata": {},
   "outputs": [
    {
     "data": {
      "text/plain": [
       "120.0"
      ]
     },
     "execution_count": 3,
     "metadata": {},
     "output_type": "execute_result"
    }
   ],
   "source": [
    "from math import factorial\n",
    "\n",
    "factorial(10) / (factorial(3) * factorial(7))"
   ]
  },
  {
   "cell_type": "markdown",
   "metadata": {},
   "source": [
    "mais comumente, \"10 escolha 3\". A notação \"n escolha k\" é escrita como:\n",
    "\n",
    "$\n",
    "\\begin{equation*} \n",
    "\\binom{n}{k} \n",
    "\\end{equation*} = \\dfrac{n!}{k!\\ (n-k)!}\n",
    "$\n",
    "\n",
    "Agora podemos calcular a probabilidade de haver 3 pessoas canhotas em uma seleção aleatória de 10 pessoas como:\n",
    "\n",
    "$\n",
    "P(X=3) = \\begin{equation*} \n",
    "\\binom{10}{3} \n",
    "\\end{equation*} (0.1)^3 (0.9)^7\n",
    "$"
   ]
  },
  {
   "cell_type": "code",
   "execution_count": 4,
   "metadata": {},
   "outputs": [
    {
     "data": {
      "text/plain": [
       "0.05739562800000002"
      ]
     },
     "execution_count": 4,
     "metadata": {},
     "output_type": "execute_result"
    }
   ],
   "source": [
    "(factorial(10) / (factorial(3) * factorial(7))) * 0.1 ** 3 * 0.9 ** 7"
   ]
  },
  {
   "cell_type": "markdown",
   "metadata": {},
   "source": [
    "$P(X=3) = 0.057$\n",
    "\n",
    "Isso generalizará de modo que:\n",
    "\n",
    "$\n",
    "P(X=k) = \\begin{equation*} \n",
    "\\binom{n}{k} \n",
    "\\end{equation*} (p)^k (1-p)^{n-k}\n",
    "$"
   ]
  },
  {
   "cell_type": "markdown",
   "metadata": {},
   "source": [
    "O pacote de estatísticas do Scipy tem um pacote binomial que pode ser usado para calcular essas probabilidades:"
   ]
  },
  {
   "cell_type": "code",
   "execution_count": 7,
   "metadata": {},
   "outputs": [
    {
     "data": {
      "text/plain": [
       "0.05739562800000007"
      ]
     },
     "execution_count": 7,
     "metadata": {},
     "output_type": "execute_result"
    }
   ],
   "source": [
    "# parâmetros são k, n e p\n",
    "from scipy.stats import binom\n",
    "\n",
    "binom.pmf(3, 10, 0.1) "
   ]
  },
  {
   "cell_type": "markdown",
   "metadata": {},
   "source": [
    "Podemos usar esta função para calcular qual a probabilidade de 3 ou menos pessoas serem canhotas de uma seleção de 10 pessoas.\n",
    "\n",
    "$\n",
    "P(X \\leq 3) = \\sum_{i=0}^{3} \\begin{equation*} \n",
    "\\binom{10}{i} \n",
    "\\end{equation*} (0.1)^i (0.9)^{n-i}\n",
    "$"
   ]
  },
  {
   "cell_type": "code",
   "execution_count": 8,
   "metadata": {},
   "outputs": [
    {
     "data": {
      "text/plain": [
       "0.9872048016000006"
      ]
     },
     "execution_count": 8,
     "metadata": {},
     "output_type": "execute_result"
    }
   ],
   "source": [
    "sum([binom.pmf(x, 10, 0.1) for x in range(4)])"
   ]
  },
  {
   "cell_type": "markdown",
   "metadata": {},
   "source": [
    "$P(X \\leq 3) = 0.987$"
   ]
  },
  {
   "cell_type": "markdown",
   "metadata": {},
   "source": [
    "Podemos plotar nossos resultados de probabilidade para cada valor até 10 pessoas canhotos:"
   ]
  },
  {
   "cell_type": "code",
   "execution_count": 12,
   "metadata": {},
   "outputs": [
    {
     "data": {
      "image/png": "[encoded data removed]",
      "text/plain": [
       "<Figure size 648x432 with 1 Axes>"
      ]
     },
     "metadata": {},
     "output_type": "display_data"
    }
   ],
   "source": [
    "import matplotlib.pyplot as plt\n",
    "import matplotlib\n",
    "%matplotlib inline\n",
    "matplotlib.style.use('ggplot')\n",
    "\n",
    "plt.figure(figsize=(9,6))\n",
    "plt.bar(range(11), [binom.pmf(x, 10, 0.1) for x in range(11)], color='blue')\n",
    "plt.xlabel('k')\n",
    "plt.ylabel('P(X=k)')\n",
    "plt.title('Binomial PMF')\n",
    "plt.show()"
   ]
  },
  {
   "cell_type": "markdown",
   "metadata": {},
   "source": [
    "Podemos ver que há uma chance quase insignificante de conseguir mais de 6 canhotos em um grupo aleatório de 10 pessoas."
   ]
  },
  {
   "cell_type": "markdown",
   "metadata": {},
   "source": [
    "## Roleta\n",
    "\n",
    "Em uma roleta americana, existem 38 quadrados:\n",
    "\n",
    "- 18 são pretos\n",
    "- 18 são vermelhos\n",
    "- 2 são verdes\n",
    "\n",
    "Apostamos no preto 10 vezes seguidas, quais são as chances de ganhar mais da metade deles?\n",
    "\n",
    "$\n",
    "P(X \\gt 5) = \\sum_{i=6}^{10} \\begin{equation*} \n",
    "\\binom{10}{i} \n",
    "\\end{equation*} \\bigg(\\dfrac{18}{38}\\bigg)^i \\bigg(1-\\dfrac{18}{38}\\bigg)^{n-i}\n",
    "$"
   ]
  },
  {
   "cell_type": "code",
   "execution_count": 13,
   "metadata": {},
   "outputs": [
    {
     "data": {
      "text/plain": [
       "0.31412504396776203"
      ]
     },
     "execution_count": 13,
     "metadata": {},
     "output_type": "execute_result"
    }
   ],
   "source": [
    "p = 18 / 38\n",
    "sum([binom.pmf(x, 10, p) for x in range(6, 11)])"
   ]
  },
  {
   "cell_type": "markdown",
   "metadata": {},
   "source": [
    "$P(X>5)=0.314$"
   ]
  },
  {
   "cell_type": "markdown",
   "metadata": {},
   "source": [
    "## Distribuição de Poisson\n",
    "\n",
    "Uma distribuição de Poisson é uma versão limitadora da distribuição binomial, em que $n$ se torna grande e $np$ aproxima de algum valor $\\lambda$, no qual é o valor médio.\n",
    "\n",
    "A distribuição Poisson pode ser usada para o número de eventos em outros intervalos especificados, como distância, área ou volume. Exemplos que podem seguir um Poisson incluem o número de chamadas telefônicas recebidas por uma central de atendimento por hora e o número de eventos de deterioração por segundo de uma fonte radioativa.\n",
    "\n",
    "Ela é calculada como:\n",
    "\n",
    "$P(k) = e^{-\\lambda} \\dfrac{\\lambda^k}{k!}$\n",
    "\n",
    "O número médio de gols em uma partida de futebol da Copa do Mundo é 2,5.\n",
    "\n",
    "Gostaríamos de saber a probabilidade de 4 gols em uma partida."
   ]
  },
  {
   "cell_type": "code",
   "execution_count": 14,
   "metadata": {},
   "outputs": [],
   "source": [
    "from math import exp\n",
    "\n",
    "_lambda = 2.5\n",
    "k = 4"
   ]
  },
  {
   "cell_type": "code",
   "execution_count": 15,
   "metadata": {},
   "outputs": [
    {
     "data": {
      "text/plain": [
       "0.13360188578108528"
      ]
     },
     "execution_count": 15,
     "metadata": {},
     "output_type": "execute_result"
    }
   ],
   "source": [
    "(exp(-_lambda)) * _lambda ** k / factorial(k)"
   ]
  },
  {
   "cell_type": "markdown",
   "metadata": {},
   "source": [
    "Novamente, o scipy possui funções integradas para executarmos esse cálculo e podemos usá-lo para calcular a probabilidade de qualquer número de gols em uma partida da Copa do Mundo."
   ]
  },
  {
   "cell_type": "code",
   "execution_count": 19,
   "metadata": {},
   "outputs": [
    {
     "data": {
      "image/png": "[encoded data removed]",
      "text/plain": [
       "<Figure size 648x432 with 1 Axes>"
      ]
     },
     "metadata": {
      "needs_background": "light"
     },
     "output_type": "display_data"
    }
   ],
   "source": [
    "# parâmetros são k e lambda\n",
    "from scipy.stats import poisson\n",
    "import matplotlib\n",
    "import matplotlib.pyplot as plt\n",
    "%matplotlib inline\n",
    "\n",
    "plt.figure(figsize=(9,6))\n",
    "plt.bar(range(11), [poisson.pmf(k, _lambda) for k in range(11)], color='blue')\n",
    "plt.xlabel('k (número de gols)')\n",
    "plt.ylabel('P(X=k)')\n",
    "plt.title('Poisson PMF')\n",
    "plt.show()"
   ]
  }
 ],
 "metadata": {
  "kernelspec": {
   "display_name": "Python 3",
   "language": "python",
   "name": "python3"
  },
  "language_info": {
   "codemirror_mode": {
    "name": "ipython",
    "version": 3
   },
   "file_extension": ".py",
   "mimetype": "text/x-python",
   "name": "python",
   "nbconvert_exporter": "python",
   "pygments_lexer": "ipython3",
   "version": "3.7.4"
  }
 },
 "nbformat": 4,
 "nbformat_minor": 2
}
