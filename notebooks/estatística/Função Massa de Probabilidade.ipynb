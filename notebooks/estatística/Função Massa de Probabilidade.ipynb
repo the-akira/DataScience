{
 "cells": [
  {
   "cell_type": "markdown",
   "metadata": {},
   "source": [
    "# Função Massa de Probabilidade\n",
    "\n",
    "Vamos iniciar importando as bibliotecas necessárias"
   ]
  },
  {
   "cell_type": "code",
   "execution_count": 38,
   "metadata": {},
   "outputs": [],
   "source": [
    "import matplotlib.pyplot as plt\n",
    "import numpy as np\n",
    "import matplotlib\n",
    "matplotlib.style.use('ggplot')\n",
    "from collections import Counter"
   ]
  },
  {
   "cell_type": "markdown",
   "metadata": {},
   "source": [
    "### Criando Dados para Trabalharmos"
   ]
  },
  {
   "cell_type": "code",
   "execution_count": 58,
   "metadata": {},
   "outputs": [
    {
     "name": "stdout",
     "output_type": "stream",
     "text": [
      "Lançamos um dado honesto de 6 lados 150 vezes\n",
      "[4 3 2 2 1 3 3 4 1 3 6 1 4 3 4 1 6 2 4 5 1 2 3 1 2 5 1 3 5 1 2 1 2 5 3 3 3\n",
      " 3 5 6 3 6 2 3 3 2 1 4 3 3 4 4 5 2 2 2 2 3 6 2 4 1 4 3 4 1 5 2 6 5 4 4 1 6\n",
      " 1 3 2 6 5 5 4 2 4 6 2 6 5 1 6 4 4 2 5 3 3 4 5 5 1 4 2 1 6 6 3 2 6 1 2 2 6\n",
      " 3 3 1 4 3 4 2 3 4 6 2 5 3 5 4 1 2 4 1 1 2 6 1 1 5 3 4 5 3 6 6 3 2 3 2 6 5\n",
      " 3 6]\n"
     ]
    }
   ],
   "source": [
    "data = np.random.randint(low=1, high=7, size=150)\n",
    "\n",
    "lados = data.max()\n",
    "tamanho = len(data)\n",
    "\n",
    "print(f'Lançamos um dado honesto de {lados} lados {tamanho} vezes')\n",
    "\n",
    "print(data)"
   ]
  },
  {
   "cell_type": "markdown",
   "metadata": {},
   "source": [
    "### Criando uma Contagem dos Valores"
   ]
  },
  {
   "cell_type": "code",
   "execution_count": 59,
   "metadata": {},
   "outputs": [
    {
     "data": {
      "text/plain": [
       "{4: 25, 3: 32, 2: 29, 1: 24, 6: 21, 5: 19}"
      ]
     },
     "execution_count": 59,
     "metadata": {},
     "output_type": "execute_result"
    }
   ],
   "source": [
    "contador = dict(Counter(data))\n",
    "contador"
   ]
  },
  {
   "cell_type": "markdown",
   "metadata": {},
   "source": [
    "### Normalizando o Contador entre 0 e 1"
   ]
  },
  {
   "cell_type": "code",
   "execution_count": 60,
   "metadata": {},
   "outputs": [
    {
     "name": "stdout",
     "output_type": "stream",
     "text": [
      "{4: 0.16666666666666666, 3: 0.21333333333333335, 2: 0.19333333333333333, 1: 0.16, 6: 0.14, 5: 0.12666666666666668}\n",
      "1.0\n"
     ]
    }
   ],
   "source": [
    "# Calcule o número de observações\n",
    "n = len(data)\n",
    "\n",
    "# Crie um dicionário\n",
    "probability_mass_function = {}\n",
    "\n",
    "# Para cada único valor\n",
    "for unique_value, count in contador.items():\n",
    "    # Normalize o contador ao dividir pelo número de observações dos dados, adiciona para o dicionário PMC\n",
    "    probability_mass_function[unique_value] = count / n\n",
    "\n",
    "print(probability_mass_function)\n",
    "print(sum(probability_mass_function.values()))"
   ]
  },
  {
   "cell_type": "markdown",
   "metadata": {},
   "source": [
    "### Visualizando a Função Massa de Probabilidade"
   ]
  },
  {
   "cell_type": "code",
   "execution_count": 61,
   "metadata": {},
   "outputs": [
    {
     "data": {
      "image/png": "[encoded data removed]",
      "text/plain": [
       "<Figure size 648x432 with 1 Axes>"
      ]
     },
     "metadata": {},
     "output_type": "display_data"
    }
   ],
   "source": [
    "plt.figure(figsize=(9,6))\n",
    "plt.bar(list(probability_mass_function.keys()), probability_mass_function.values(), color='g', edgecolor='black')\n",
    "plt.show()"
   ]
  }
 ],
 "metadata": {
  "kernelspec": {
   "display_name": "Python 3",
   "language": "python",
   "name": "python3"
  },
  "language_info": {
   "codemirror_mode": {
    "name": "ipython",
    "version": 3
   },
   "file_extension": ".py",
   "mimetype": "text/x-python",
   "name": "python",
   "nbconvert_exporter": "python",
   "pygments_lexer": "ipython3",
   "version": "3.6.9"
  }
 },
 "nbformat": 4,
 "nbformat_minor": 4
}
