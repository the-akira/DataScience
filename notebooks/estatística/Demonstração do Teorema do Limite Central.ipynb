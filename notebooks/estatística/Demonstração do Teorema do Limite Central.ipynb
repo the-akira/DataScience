{
 "cells": [
  {
   "cell_type": "markdown",
   "metadata": {},
   "source": [
    "# Demonstração do Teorema do Limite Central"
   ]
  },
  {
   "cell_type": "markdown",
   "metadata": {},
   "source": [
    "Começamos importando em nosso projeto as bibliotecas necessárias"
   ]
  },
  {
   "cell_type": "code",
   "execution_count": 10,
   "metadata": {},
   "outputs": [],
   "source": [
    "import pandas as pd\n",
    "import numpy as np\n",
    "import matplotlib\n",
    "%matplotlib inline  \n",
    "matplotlib.style.use('ggplot')"
   ]
  },
  {
   "cell_type": "markdown",
   "metadata": {},
   "source": [
    "### Criar dados da população a partir de distribuição não-Normal"
   ]
  },
  {
   "cell_type": "code",
   "execution_count": 34,
   "metadata": {},
   "outputs": [
    {
     "data": {
      "text/plain": [
       "<matplotlib.axes._subplots.AxesSubplot at 0x7fa7219ac110>"
      ]
     },
     "execution_count": 34,
     "metadata": {},
     "output_type": "execute_result"
    },
    {
     "data": {
      "image/png": "[encoded data removed]",
      "text/plain": [
       "<Figure size 864x576 with 1 Axes>"
      ]
     },
     "metadata": {},
     "output_type": "display_data"
    }
   ],
   "source": [
    "# Criamos um DataFrame vazio\n",
    "populacao = pd.DataFrame()\n",
    "\n",
    "# Crie uma coluna com 12000 números aleatórios extraídos de uma distribuição uniforme\n",
    "populacao['numeros'] = np.random.uniform(0,12000,size=12000)\n",
    "\n",
    "# Vamos plotar um histograma dos dados para confirmar que os dados não são uma distribuição normal\n",
    "populacao['numeros'].hist(bins=80, figsize=(12,8), edgecolor='black', color='gray')"
   ]
  },
  {
   "cell_type": "markdown",
   "metadata": {},
   "source": [
    "### Veja a verdadeira média da população"
   ]
  },
  {
   "cell_type": "code",
   "execution_count": 19,
   "metadata": {},
   "outputs": [
    {
     "data": {
      "text/plain": [
       "5976.210353874274"
      ]
     },
     "execution_count": 19,
     "metadata": {},
     "output_type": "execute_result"
    }
   ],
   "source": [
    "# Veja a média dos números\n",
    "populacao['numeros'].mean()"
   ]
  },
  {
   "cell_type": "markdown",
   "metadata": {},
   "source": [
    "### Obtenha uma amostra da média e repita 1000 vezes"
   ]
  },
  {
   "cell_type": "code",
   "execution_count": 20,
   "metadata": {},
   "outputs": [],
   "source": [
    "# Criamos uma lista\n",
    "medias_amostradas = []\n",
    "\n",
    "# Repete 1000 vezes\n",
    "for i in range(0,1000):\n",
    "    # Obtenha uma amostra aleatória de 100 linhas da população, obtenha a média dessas linhas a anexe o resto na lista medias_amostradas\n",
    "    medias_amostradas.append(populacao.sample(n=100).mean().values[0])"
   ]
  },
  {
   "cell_type": "markdown",
   "metadata": {},
   "source": [
    "### Plotar as Médias Amostradas de TODAS as 100 amostras"
   ]
  },
  {
   "cell_type": "code",
   "execution_count": 35,
   "metadata": {},
   "outputs": [
    {
     "data": {
      "text/plain": [
       "<matplotlib.axes._subplots.AxesSubplot at 0x7fa7218b8fd0>"
      ]
     },
     "execution_count": 35,
     "metadata": {},
     "output_type": "execute_result"
    },
    {
     "data": {
      "image/png": "[encoded data removed]",
      "text/plain": [
       "<Figure size 864x576 with 1 Axes>"
      ]
     },
     "metadata": {},
     "output_type": "display_data"
    }
   ],
   "source": [
    "# Plotamos então um histograma das medias_amostradas\n",
    "# Podemos ver que ele está claramente distribuído normalmente e centrado por volta de 6000\n",
    "pd.Series(medias_amostradas).hist(bins=80, figsize=(12,8), edgecolor='black', color='gray')"
   ]
  },
  {
   "cell_type": "markdown",
   "metadata": {},
   "source": [
    "Este é o gráfico crítico, lembre-se de que a distribuição da população era uniforme, no entanto, essa distribuição está se aproximando da normalidade. Esse é o ponto principal da teoria dos limites centrais e a razão pela qual podemos assumir que as médias amostrais não são tendenciosas."
   ]
  },
  {
   "cell_type": "markdown",
   "metadata": {},
   "source": [
    "### Exibir a média da amostra média"
   ]
  },
  {
   "cell_type": "code",
   "execution_count": 26,
   "metadata": {},
   "outputs": [
    {
     "data": {
      "text/plain": [
       "5986.192536925893"
      ]
     },
     "execution_count": 26,
     "metadata": {},
     "output_type": "execute_result"
    }
   ],
   "source": [
    "# Visualize a média das medias_amostradas\n",
    "pd.Series(medias_amostradas).mean()"
   ]
  },
  {
   "cell_type": "markdown",
   "metadata": {},
   "source": [
    "### Compare com a média verdadeira"
   ]
  },
  {
   "cell_type": "code",
   "execution_count": 31,
   "metadata": {},
   "outputs": [
    {
     "name": "stdout",
     "output_type": "stream",
     "text": [
      "A média da amostra média (5986.192536925893) é apenas -9.982183 diferente da média da verdadeira população (5976.210353874274)!\n"
     ]
    }
   ],
   "source": [
    "media_amostra = pd.Series(medias_amostradas).mean()\n",
    "media_populacao = populacao['numeros'].mean()\n",
    "\n",
    "# Subtrair a média da amostra da média da população verdadeira\n",
    "error = populacao['numeros'].mean() - pd.Series(medias_amostradas).mean()\n",
    "\n",
    "# Print\n",
    "print(f'A média da amostra média ({media_amostra}) é apenas {error:f} diferente da média da verdadeira população ({media_populacao})!')"
   ]
  }
 ],
 "metadata": {
  "kernelspec": {
   "display_name": "Python 3",
   "language": "python",
   "name": "python3"
  },
  "language_info": {
   "codemirror_mode": {
    "name": "ipython",
    "version": 3
   },
   "file_extension": ".py",
   "mimetype": "text/x-python",
   "name": "python",
   "nbconvert_exporter": "python",
   "pygments_lexer": "ipython3",
   "version": "3.6.9"
  }
 },
 "nbformat": 4,
 "nbformat_minor": 4
}
