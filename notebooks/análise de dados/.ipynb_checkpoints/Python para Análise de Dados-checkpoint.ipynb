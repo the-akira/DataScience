{
 "cells": [
  {
   "cell_type": "markdown",
   "metadata": {},
   "source": [
    "# Python para Análise de Dados\n",
    "\n",
    "- Visão Geral de Bibliotecas Python para Cientistas de Dados\n",
    "- Lendo Dados, Selecionando e Filtrando os Dados, Manipulando Dados, Ordenando, Agrupando, Reorganizando, Plotando\n",
    "- Estatística Descritiva\n",
    "- Estatística Inferencial\n",
    "\n",
    "## Bibliotecas Python para Ciência de Dados\n",
    "\n",
    "Ferramentas e Bibliotecas populares:\n",
    "\n",
    "- NumPy\n",
    "- SciPy\n",
    "- Pandas\n",
    "- Scikit-Learn\n",
    "- Matplotlib\n",
    "- Seaborn"
   ]
  },
  {
   "cell_type": "markdown",
   "metadata": {},
   "source": [
    "### NumPy\n",
    "\n",
    "- Introduz objetos para arrays multidimensionais e matrizes, assim como funções que permitem facilmente a execução de operações matemáticas e estatísticas avançadas nesses objetos.\n",
    "- Provê vetorização de operações matemáticas em arrays e matrizes no qual melhora significante a perfomance\n",
    "- Muitas outras bibliotecas em Python são construídas em cima da NumPy"
   ]
  },
  {
   "cell_type": "markdown",
   "metadata": {},
   "source": [
    "### SciPy\n",
    "\n",
    "- Coleção de algoritmos para Álgebra Linear, Equações Diferenciais, Integração Numérica, Otimização, Estatística e muito mais\n",
    "- Construída em cima de NumPy"
   ]
  },
  {
   "cell_type": "markdown",
   "metadata": {},
   "source": [
    "### Pandas\n",
    "\n",
    "- Adiciona estruturas de dados e ferramentas desenvolvidas para trabalharmos com dados tipo-tabela (similares às Séries e DataFrames em R)\n",
    "- Provê ferramentas para manipulação de dados: reshaping, merging, sorting, slicing, aggregation, etc.\n",
    "- Permite que possamos lidar com dados 'faltantes'"
   ]
  },
  {
   "cell_type": "markdown",
   "metadata": {},
   "source": [
    "### Scikit-Learn\n",
    "\n",
    "- Provê Algoritmos de Machine Learning: Classificação, Regressão, Clusterização, Validação de Modelos.\n",
    "- Construído em cima de NumPy, SciPy e Matplotlib"
   ]
  },
  {
   "cell_type": "markdown",
   "metadata": {},
   "source": [
    "### Matplotlib\n",
    "\n",
    "- Biblioteca de plotagens 2D no qual produz figuras de qualidade em uma variedade de formatos\n",
    "- Um conjunto de funcionalidades similar àquelas de MATLAB\n",
    "- Line plots, Scatter Plots, Barcharts, Histograms, Pie Charts, etc\n",
    "- Relativamente de baixo nível, é necessário um certo esforço para criar visualizações avançadas"
   ]
  },
  {
   "cell_type": "markdown",
   "metadata": {},
   "source": [
    "### Seaborn\n",
    "\n",
    "- Baseada em Matplotlib\n",
    "- Provê uma interface de alto nível para desenharmos gráficos estatísticos atrativos\n",
    "- Similar (em estilo) à popular biblioteca ggplot2 em R"
   ]
  },
  {
   "cell_type": "code",
   "execution_count": 2,
   "metadata": {},
   "outputs": [],
   "source": [
    "# Importando as Bibliotecas\n",
    "import numpy as np\n",
    "import scipy as sp\n",
    "import pandas as pd\n",
    "import matplotlib as mpl\n",
    "import seaborn as sns\n",
    "%matplotlib inline"
   ]
  },
  {
   "cell_type": "code",
   "execution_count": 3,
   "metadata": {},
   "outputs": [],
   "source": [
    "# Armazenando dados csv em um DataFrame (Uma das estruturas de dados mais importantes em Pandas)\n",
    "df = pd.read_csv('https://gist.githubusercontent.com/the-akira/1c7503a04dfe9b159832ac4e98319b0c/raw/561fe4d2fa727177581c6391fdd4ca913fa91673/salarios.csv')"
   ]
  },
  {
   "cell_type": "code",
   "execution_count": 4,
   "metadata": {},
   "outputs": [
    {
     "data": {
      "text/html": [
       "<div>\n",
       "<style scoped>\n",
       "    .dataframe tbody tr th:only-of-type {\n",
       "        vertical-align: middle;\n",
       "    }\n",
       "\n",
       "    .dataframe tbody tr th {\n",
       "        vertical-align: top;\n",
       "    }\n",
       "\n",
       "    .dataframe thead th {\n",
       "        text-align: right;\n",
       "    }\n",
       "</style>\n",
       "<table border=\"1\" class=\"dataframe\">\n",
       "  <thead>\n",
       "    <tr style=\"text-align: right;\">\n",
       "      <th></th>\n",
       "      <th>rank</th>\n",
       "      <th>disciplina</th>\n",
       "      <th>phd</th>\n",
       "      <th>serviço</th>\n",
       "      <th>gênero</th>\n",
       "      <th>salário</th>\n",
       "    </tr>\n",
       "  </thead>\n",
       "  <tbody>\n",
       "    <tr>\n",
       "      <th>0</th>\n",
       "      <td>Prof</td>\n",
       "      <td>B</td>\n",
       "      <td>56</td>\n",
       "      <td>49</td>\n",
       "      <td>Masculino</td>\n",
       "      <td>186960</td>\n",
       "    </tr>\n",
       "    <tr>\n",
       "      <th>1</th>\n",
       "      <td>Prof</td>\n",
       "      <td>A</td>\n",
       "      <td>12</td>\n",
       "      <td>34</td>\n",
       "      <td>Feminino</td>\n",
       "      <td>93000</td>\n",
       "    </tr>\n",
       "    <tr>\n",
       "      <th>2</th>\n",
       "      <td>Prof</td>\n",
       "      <td>B</td>\n",
       "      <td>13</td>\n",
       "      <td>37</td>\n",
       "      <td>Masculino</td>\n",
       "      <td>66000</td>\n",
       "    </tr>\n",
       "    <tr>\n",
       "      <th>3</th>\n",
       "      <td>Prof</td>\n",
       "      <td>C</td>\n",
       "      <td>25</td>\n",
       "      <td>75</td>\n",
       "      <td>Masculino</td>\n",
       "      <td>77000</td>\n",
       "    </tr>\n",
       "    <tr>\n",
       "      <th>4</th>\n",
       "      <td>Prof</td>\n",
       "      <td>A</td>\n",
       "      <td>24</td>\n",
       "      <td>55</td>\n",
       "      <td>Feminino</td>\n",
       "      <td>336600</td>\n",
       "    </tr>\n",
       "    <tr>\n",
       "      <th>5</th>\n",
       "      <td>Prof</td>\n",
       "      <td>A</td>\n",
       "      <td>26</td>\n",
       "      <td>50</td>\n",
       "      <td>Masculino</td>\n",
       "      <td>170000</td>\n",
       "    </tr>\n",
       "    <tr>\n",
       "      <th>6</th>\n",
       "      <td>Prof</td>\n",
       "      <td>B</td>\n",
       "      <td>50</td>\n",
       "      <td>24</td>\n",
       "      <td>Feminino</td>\n",
       "      <td>120000</td>\n",
       "    </tr>\n",
       "    <tr>\n",
       "      <th>7</th>\n",
       "      <td>Prof</td>\n",
       "      <td>B</td>\n",
       "      <td>35</td>\n",
       "      <td>22</td>\n",
       "      <td>Feminino</td>\n",
       "      <td>130000</td>\n",
       "    </tr>\n",
       "    <tr>\n",
       "      <th>8</th>\n",
       "      <td>Prof</td>\n",
       "      <td>A</td>\n",
       "      <td>45</td>\n",
       "      <td>50</td>\n",
       "      <td>Masculino</td>\n",
       "      <td>144000</td>\n",
       "    </tr>\n",
       "    <tr>\n",
       "      <th>9</th>\n",
       "      <td>Prof</td>\n",
       "      <td>C</td>\n",
       "      <td>22</td>\n",
       "      <td>23</td>\n",
       "      <td>Masculino</td>\n",
       "      <td>88000</td>\n",
       "    </tr>\n",
       "    <tr>\n",
       "      <th>10</th>\n",
       "      <td>Prof</td>\n",
       "      <td>B</td>\n",
       "      <td>44</td>\n",
       "      <td>14</td>\n",
       "      <td>Masculino</td>\n",
       "      <td>105000</td>\n",
       "    </tr>\n",
       "  </tbody>\n",
       "</table>\n",
       "</div>"
      ],
      "text/plain": [
       "    rank disciplina  phd  serviço     gênero  salário\n",
       "0   Prof          B   56       49  Masculino   186960\n",
       "1   Prof          A   12       34   Feminino    93000\n",
       "2   Prof          B   13       37  Masculino    66000\n",
       "3   Prof          C   25       75  Masculino    77000\n",
       "4   Prof          A   24       55   Feminino   336600\n",
       "5   Prof          A   26       50  Masculino   170000\n",
       "6   Prof          B   50       24   Feminino   120000\n",
       "7   Prof          B   35       22   Feminino   130000\n",
       "8   Prof          A   45       50  Masculino   144000\n",
       "9   Prof          C   22       23  Masculino    88000\n",
       "10  Prof          B   44       14  Masculino   105000"
      ]
     },
     "execution_count": 4,
     "metadata": {},
     "output_type": "execute_result"
    }
   ],
   "source": [
    "df.head(11)"
   ]
  },
  {
   "cell_type": "markdown",
   "metadata": {},
   "source": [
    "## Tipos de Dados do DataFrame\n",
    "\n",
    "| Pandas Tipo | Python Nativo Tipo | Descrição |\n",
    "| --- | --- | --- |\n",
    "| objeto | string | O mais geral dtype. Será atribuído a sua coluna caso ela tenha tipos mistos |\n",
    "| int64 | int | Caractéres numéricos. 64 se refere à memória alocada |\n",
    "| float64 | float | Caractéres numéricos com decimais |\n",
    "| datetime64, timedelta[ns] | N/A | Valores para guardar dados temporais |"
   ]
  },
  {
   "cell_type": "code",
   "execution_count": 12,
   "metadata": {},
   "outputs": [
    {
     "data": {
      "text/plain": [
       "dtype('int64')"
      ]
     },
     "execution_count": 12,
     "metadata": {},
     "output_type": "execute_result"
    }
   ],
   "source": [
    "df['salário'].dtype"
   ]
  },
  {
   "cell_type": "code",
   "execution_count": 13,
   "metadata": {},
   "outputs": [
    {
     "data": {
      "text/plain": [
       "rank          object\n",
       "disciplina    object\n",
       "phd            int64\n",
       "serviço        int64\n",
       "gênero        object\n",
       "salário        int64\n",
       "dtype: object"
      ]
     },
     "execution_count": 13,
     "metadata": {},
     "output_type": "execute_result"
    }
   ],
   "source": [
    "df.dtypes"
   ]
  },
  {
   "cell_type": "markdown",
   "metadata": {},
   "source": [
    "## Atributos do DataFrame\n",
    "\n",
    "| df.attribute | Descrição | \n",
    "| --- | --- | \n",
    "| dtypes | lista os tipos das colunas | \n",
    "| columns | lista o nome das colunas |\n",
    "| axes | lista os rótulos das linhas e o nome das colunas | \n",
    "| ndim | número de dimensões | \n",
    "| size | número de elementos | \n",
    "| shape | retorna uma tupla representando a dimensionalidade | \n",
    "| values | numpy representação dos dados | "
   ]
  },
  {
   "cell_type": "markdown",
   "metadata": {},
   "source": [
    "## Métodos do DataFrame\n",
    "\n",
    "| df.method() | Descrição | \n",
    "| --- | --- | \n",
    "| head() | primeiras linhas do DataFrame | \n",
    "| tail() | últimas linhas do DataFrame |\n",
    "| describe() | gera estatística descritiva (para colunas numéricas apenas) |\n",
    "| max() | retorna o valor máximo para todas as colunas numéricas | \n",
    "| min() | retorna o valor mínimo para todas as colunas numéricas | \n",
    "| mean() | retorna média para todas as colunas numéricas | \n",
    "| median() | retorna a mediana para todas as colunas numéricas | \n",
    "| mode() | retorna a moda | \n",
    "| std() | desvio padrão | \n",
    "| sample() | retorna uma amostra aleatória do DataFrame | \n",
    "| dropna() | dropa todos os registros com valores faltantes | "
   ]
  },
  {
   "cell_type": "markdown",
   "metadata": {},
   "source": [
    "### Selecionando uma coluna em um DataFrame"
   ]
  },
  {
   "cell_type": "code",
   "execution_count": 14,
   "metadata": {},
   "outputs": [
    {
     "data": {
      "text/plain": [
       "0     Masculino\n",
       "1      Feminino\n",
       "2     Masculino\n",
       "3     Masculino\n",
       "4      Feminino\n",
       "5     Masculino\n",
       "6      Feminino\n",
       "7      Feminino\n",
       "8     Masculino\n",
       "9     Masculino\n",
       "10    Masculino\n",
       "Name: gênero, dtype: object"
      ]
     },
     "execution_count": 14,
     "metadata": {},
     "output_type": "execute_result"
    }
   ],
   "source": [
    "df['gênero']"
   ]
  },
  {
   "cell_type": "code",
   "execution_count": 15,
   "metadata": {},
   "outputs": [
    {
     "data": {
      "text/plain": [
       "0     Masculino\n",
       "1      Feminino\n",
       "2     Masculino\n",
       "3     Masculino\n",
       "4      Feminino\n",
       "5     Masculino\n",
       "6      Feminino\n",
       "7      Feminino\n",
       "8     Masculino\n",
       "9     Masculino\n",
       "10    Masculino\n",
       "Name: gênero, dtype: object"
      ]
     },
     "execution_count": 15,
     "metadata": {},
     "output_type": "execute_result"
    }
   ],
   "source": [
    "df.gênero"
   ]
  },
  {
   "cell_type": "markdown",
   "metadata": {},
   "source": [
    "## O método groupby do DataFrame\n",
    "\n",
    "Ao utilizarmos o método **groupby()** nós podemos:\n",
    "\n",
    "- Dividir os dados em grupos baseados em algum critério\n",
    "- Calcular estatísticas (ou aplicar funções) em cada grupo\n",
    "- Similar à função **dplyr()** em R"
   ]
  },
  {
   "cell_type": "code",
   "execution_count": 16,
   "metadata": {},
   "outputs": [
    {
     "data": {
      "text/plain": [
       "<pandas.core.groupby.generic.DataFrameGroupBy object at 0x7f95a55f8e48>"
      ]
     },
     "execution_count": 16,
     "metadata": {},
     "output_type": "execute_result"
    }
   ],
   "source": [
    "# Agrupar os dados utilizando rank\n",
    "df_rank = df.groupby(['rank'])\n",
    "df_rank"
   ]
  },
  {
   "cell_type": "code",
   "execution_count": 17,
   "metadata": {},
   "outputs": [
    {
     "data": {
      "text/html": [
       "<div>\n",
       "<style scoped>\n",
       "    .dataframe tbody tr th:only-of-type {\n",
       "        vertical-align: middle;\n",
       "    }\n",
       "\n",
       "    .dataframe tbody tr th {\n",
       "        vertical-align: top;\n",
       "    }\n",
       "\n",
       "    .dataframe thead th {\n",
       "        text-align: right;\n",
       "    }\n",
       "</style>\n",
       "<table border=\"1\" class=\"dataframe\">\n",
       "  <thead>\n",
       "    <tr style=\"text-align: right;\">\n",
       "      <th></th>\n",
       "      <th>phd</th>\n",
       "      <th>serviço</th>\n",
       "      <th>salário</th>\n",
       "    </tr>\n",
       "    <tr>\n",
       "      <th>rank</th>\n",
       "      <th></th>\n",
       "      <th></th>\n",
       "      <th></th>\n",
       "    </tr>\n",
       "  </thead>\n",
       "  <tbody>\n",
       "    <tr>\n",
       "      <th>Prof</th>\n",
       "      <td>32.0</td>\n",
       "      <td>39.363636</td>\n",
       "      <td>137869.090909</td>\n",
       "    </tr>\n",
       "  </tbody>\n",
       "</table>\n",
       "</div>"
      ],
      "text/plain": [
       "       phd    serviço        salário\n",
       "rank                                \n",
       "Prof  32.0  39.363636  137869.090909"
      ]
     },
     "execution_count": 17,
     "metadata": {},
     "output_type": "execute_result"
    }
   ],
   "source": [
    "# Calcula o valor médio para cada coluna numérica por cada grupo\n",
    "df_rank.mean()"
   ]
  },
  {
   "cell_type": "markdown",
   "metadata": {},
   "source": [
    "Uma vez que o objeto groupby foi criado nós podemos calcular várias estatísticas para cada grupo"
   ]
  },
  {
   "cell_type": "code",
   "execution_count": 18,
   "metadata": {},
   "outputs": [
    {
     "data": {
      "text/html": [
       "<div>\n",
       "<style scoped>\n",
       "    .dataframe tbody tr th:only-of-type {\n",
       "        vertical-align: middle;\n",
       "    }\n",
       "\n",
       "    .dataframe tbody tr th {\n",
       "        vertical-align: top;\n",
       "    }\n",
       "\n",
       "    .dataframe thead th {\n",
       "        text-align: right;\n",
       "    }\n",
       "</style>\n",
       "<table border=\"1\" class=\"dataframe\">\n",
       "  <thead>\n",
       "    <tr style=\"text-align: right;\">\n",
       "      <th></th>\n",
       "      <th>salário</th>\n",
       "    </tr>\n",
       "    <tr>\n",
       "      <th>rank</th>\n",
       "      <th></th>\n",
       "    </tr>\n",
       "  </thead>\n",
       "  <tbody>\n",
       "    <tr>\n",
       "      <th>Prof</th>\n",
       "      <td>137869.090909</td>\n",
       "    </tr>\n",
       "  </tbody>\n",
       "</table>\n",
       "</div>"
      ],
      "text/plain": [
       "            salário\n",
       "rank               \n",
       "Prof  137869.090909"
      ]
     },
     "execution_count": 18,
     "metadata": {},
     "output_type": "execute_result"
    }
   ],
   "source": [
    "df.groupby('rank')[['salário']].mean()"
   ]
  },
  {
   "cell_type": "markdown",
   "metadata": {},
   "source": [
    "Notas de perfomance para groupby:\n",
    "\n",
    "- Nenhum agrupamento/divisão ocorre até que seja necessário. Criando o objeto groupby apenas verifica que passamos um mapping válido\n",
    "- Por padrão as chaves do grupo são organizadas durante a operação groupby. Talvez você queira passar sort=False para um potencial ganho em desempenho"
   ]
  },
  {
   "cell_type": "code",
   "execution_count": 19,
   "metadata": {},
   "outputs": [
    {
     "data": {
      "text/html": [
       "<div>\n",
       "<style scoped>\n",
       "    .dataframe tbody tr th:only-of-type {\n",
       "        vertical-align: middle;\n",
       "    }\n",
       "\n",
       "    .dataframe tbody tr th {\n",
       "        vertical-align: top;\n",
       "    }\n",
       "\n",
       "    .dataframe thead th {\n",
       "        text-align: right;\n",
       "    }\n",
       "</style>\n",
       "<table border=\"1\" class=\"dataframe\">\n",
       "  <thead>\n",
       "    <tr style=\"text-align: right;\">\n",
       "      <th></th>\n",
       "      <th>salário</th>\n",
       "    </tr>\n",
       "    <tr>\n",
       "      <th>rank</th>\n",
       "      <th></th>\n",
       "    </tr>\n",
       "  </thead>\n",
       "  <tbody>\n",
       "    <tr>\n",
       "      <th>Prof</th>\n",
       "      <td>137869.090909</td>\n",
       "    </tr>\n",
       "  </tbody>\n",
       "</table>\n",
       "</div>"
      ],
      "text/plain": [
       "            salário\n",
       "rank               \n",
       "Prof  137869.090909"
      ]
     },
     "execution_count": 19,
     "metadata": {},
     "output_type": "execute_result"
    }
   ],
   "source": [
    "# Calcula o salário médio para cada rank de professor (nesse exemplo tem apenas um tipo de Professor)\n",
    "df.groupby(['rank'], sort=False)[['salário']].mean()"
   ]
  },
  {
   "cell_type": "markdown",
   "metadata": {},
   "source": [
    "## DataFrame: Filtrando\n",
    "\n",
    "Para criarmos subgrupos dos nossos dados nós podemos aplicar *Boolean Indexing*. Esse tipo de índice é comumente conhecido como filtro. Por exemplo, se desejamos um subgrupo de linhas no qual o salário é maior do que 120.000:"
   ]
  },
  {
   "cell_type": "code",
   "execution_count": 20,
   "metadata": {},
   "outputs": [
    {
     "data": {
      "text/html": [
       "<div>\n",
       "<style scoped>\n",
       "    .dataframe tbody tr th:only-of-type {\n",
       "        vertical-align: middle;\n",
       "    }\n",
       "\n",
       "    .dataframe tbody tr th {\n",
       "        vertical-align: top;\n",
       "    }\n",
       "\n",
       "    .dataframe thead th {\n",
       "        text-align: right;\n",
       "    }\n",
       "</style>\n",
       "<table border=\"1\" class=\"dataframe\">\n",
       "  <thead>\n",
       "    <tr style=\"text-align: right;\">\n",
       "      <th></th>\n",
       "      <th>rank</th>\n",
       "      <th>disciplina</th>\n",
       "      <th>phd</th>\n",
       "      <th>serviço</th>\n",
       "      <th>gênero</th>\n",
       "      <th>salário</th>\n",
       "    </tr>\n",
       "  </thead>\n",
       "  <tbody>\n",
       "    <tr>\n",
       "      <th>0</th>\n",
       "      <td>Prof</td>\n",
       "      <td>B</td>\n",
       "      <td>56</td>\n",
       "      <td>49</td>\n",
       "      <td>Masculino</td>\n",
       "      <td>186960</td>\n",
       "    </tr>\n",
       "    <tr>\n",
       "      <th>4</th>\n",
       "      <td>Prof</td>\n",
       "      <td>A</td>\n",
       "      <td>24</td>\n",
       "      <td>55</td>\n",
       "      <td>Feminino</td>\n",
       "      <td>336600</td>\n",
       "    </tr>\n",
       "    <tr>\n",
       "      <th>5</th>\n",
       "      <td>Prof</td>\n",
       "      <td>A</td>\n",
       "      <td>26</td>\n",
       "      <td>50</td>\n",
       "      <td>Masculino</td>\n",
       "      <td>170000</td>\n",
       "    </tr>\n",
       "    <tr>\n",
       "      <th>7</th>\n",
       "      <td>Prof</td>\n",
       "      <td>B</td>\n",
       "      <td>35</td>\n",
       "      <td>22</td>\n",
       "      <td>Feminino</td>\n",
       "      <td>130000</td>\n",
       "    </tr>\n",
       "    <tr>\n",
       "      <th>8</th>\n",
       "      <td>Prof</td>\n",
       "      <td>A</td>\n",
       "      <td>45</td>\n",
       "      <td>50</td>\n",
       "      <td>Masculino</td>\n",
       "      <td>144000</td>\n",
       "    </tr>\n",
       "  </tbody>\n",
       "</table>\n",
       "</div>"
      ],
      "text/plain": [
       "   rank disciplina  phd  serviço     gênero  salário\n",
       "0  Prof          B   56       49  Masculino   186960\n",
       "4  Prof          A   24       55   Feminino   336600\n",
       "5  Prof          A   26       50  Masculino   170000\n",
       "7  Prof          B   35       22   Feminino   130000\n",
       "8  Prof          A   45       50  Masculino   144000"
      ]
     },
     "execution_count": 20,
     "metadata": {},
     "output_type": "execute_result"
    }
   ],
   "source": [
    "df_sub = df[df['salário'] > 120000]\n",
    "df_sub"
   ]
  },
  {
   "cell_type": "markdown",
   "metadata": {},
   "source": [
    "Qualquer operador booleano pode ser utilizado para criarmos subgrupos dos dados:\n",
    "\n",
    "\\> **maior**;\n",
    "\n",
    "< **menor**;\n",
    "\n",
    "== **igual**;\n",
    "\n",
    "\\>= **maior ou igual**;\n",
    "\n",
    "<= **menor ou igual**;\n",
    "\n",
    "!= **diferente**;"
   ]
  },
  {
   "cell_type": "code",
   "execution_count": 21,
   "metadata": {},
   "outputs": [
    {
     "data": {
      "text/html": [
       "<div>\n",
       "<style scoped>\n",
       "    .dataframe tbody tr th:only-of-type {\n",
       "        vertical-align: middle;\n",
       "    }\n",
       "\n",
       "    .dataframe tbody tr th {\n",
       "        vertical-align: top;\n",
       "    }\n",
       "\n",
       "    .dataframe thead th {\n",
       "        text-align: right;\n",
       "    }\n",
       "</style>\n",
       "<table border=\"1\" class=\"dataframe\">\n",
       "  <thead>\n",
       "    <tr style=\"text-align: right;\">\n",
       "      <th></th>\n",
       "      <th>rank</th>\n",
       "      <th>disciplina</th>\n",
       "      <th>phd</th>\n",
       "      <th>serviço</th>\n",
       "      <th>gênero</th>\n",
       "      <th>salário</th>\n",
       "    </tr>\n",
       "  </thead>\n",
       "  <tbody>\n",
       "    <tr>\n",
       "      <th>1</th>\n",
       "      <td>Prof</td>\n",
       "      <td>A</td>\n",
       "      <td>12</td>\n",
       "      <td>34</td>\n",
       "      <td>Feminino</td>\n",
       "      <td>93000</td>\n",
       "    </tr>\n",
       "    <tr>\n",
       "      <th>4</th>\n",
       "      <td>Prof</td>\n",
       "      <td>A</td>\n",
       "      <td>24</td>\n",
       "      <td>55</td>\n",
       "      <td>Feminino</td>\n",
       "      <td>336600</td>\n",
       "    </tr>\n",
       "    <tr>\n",
       "      <th>6</th>\n",
       "      <td>Prof</td>\n",
       "      <td>B</td>\n",
       "      <td>50</td>\n",
       "      <td>24</td>\n",
       "      <td>Feminino</td>\n",
       "      <td>120000</td>\n",
       "    </tr>\n",
       "    <tr>\n",
       "      <th>7</th>\n",
       "      <td>Prof</td>\n",
       "      <td>B</td>\n",
       "      <td>35</td>\n",
       "      <td>22</td>\n",
       "      <td>Feminino</td>\n",
       "      <td>130000</td>\n",
       "    </tr>\n",
       "  </tbody>\n",
       "</table>\n",
       "</div>"
      ],
      "text/plain": [
       "   rank disciplina  phd  serviço    gênero  salário\n",
       "1  Prof          A   12       34  Feminino    93000\n",
       "4  Prof          A   24       55  Feminino   336600\n",
       "6  Prof          B   50       24  Feminino   120000\n",
       "7  Prof          B   35       22  Feminino   130000"
      ]
     },
     "execution_count": 21,
     "metadata": {},
     "output_type": "execute_result"
    }
   ],
   "source": [
    "# Seleciona apenas as linhas que possuem professores femininos\n",
    "df_f = df[df['gênero'] == 'Feminino']\n",
    "df_f"
   ]
  },
  {
   "cell_type": "markdown",
   "metadata": {},
   "source": [
    "## DataFrame: Slicing\n",
    "\n",
    "- Existem algumas maneiras de criarmos subgrupos do DataFrame:\n",
    "    - Uma ou mais colunas\n",
    "    - Uma ou mais linhas\n",
    "    - Um subconjunto de linhas e colunas\n",
    "\n",
    "- Linhas e colunas podem ser selecionadas por sua posição ou rótulo\n",
    "\n",
    "Ao selecionarmos uma coluna, é possível um único conjunto de colchetes, porém o objeto resultante será uma Series (não um DataFrame)"
   ]
  },
  {
   "cell_type": "code",
   "execution_count": 22,
   "metadata": {},
   "outputs": [
    {
     "data": {
      "text/plain": [
       "pandas.core.series.Series"
      ]
     },
     "execution_count": 22,
     "metadata": {},
     "output_type": "execute_result"
    }
   ],
   "source": [
    "df['salário']\n",
    "type(df['salário'])"
   ]
  },
  {
   "cell_type": "markdown",
   "metadata": {},
   "source": [
    "Quando nós precisamos selecionar mais deu uma coluna e/ou fazer o output ser um DataFrame, nós devemos usar colchetes duplos:"
   ]
  },
  {
   "cell_type": "code",
   "execution_count": 23,
   "metadata": {},
   "outputs": [
    {
     "data": {
      "text/plain": [
       "pandas.core.frame.DataFrame"
      ]
     },
     "execution_count": 23,
     "metadata": {},
     "output_type": "execute_result"
    }
   ],
   "source": [
    "df[['rank', 'salário']]\n",
    "type(df[['rank', 'salário']])"
   ]
  },
  {
   "cell_type": "markdown",
   "metadata": {},
   "source": [
    "## DataFrame: Selecionando linhas\n",
    "\n",
    "Se nós precisarmos selecionar uma extensão de linhas, nós podemos especificar a extensão utilizando \":\""
   ]
  },
  {
   "cell_type": "code",
   "execution_count": 20,
   "metadata": {},
   "outputs": [
    {
     "data": {
      "text/html": [
       "<div>\n",
       "<style scoped>\n",
       "    .dataframe tbody tr th:only-of-type {\n",
       "        vertical-align: middle;\n",
       "    }\n",
       "\n",
       "    .dataframe tbody tr th {\n",
       "        vertical-align: top;\n",
       "    }\n",
       "\n",
       "    .dataframe thead th {\n",
       "        text-align: right;\n",
       "    }\n",
       "</style>\n",
       "<table border=\"1\" class=\"dataframe\">\n",
       "  <thead>\n",
       "    <tr style=\"text-align: right;\">\n",
       "      <th></th>\n",
       "      <th>rank</th>\n",
       "      <th>discipline</th>\n",
       "      <th>phd</th>\n",
       "      <th>service</th>\n",
       "      <th>sex</th>\n",
       "      <th>salary</th>\n",
       "    </tr>\n",
       "  </thead>\n",
       "  <tbody>\n",
       "    <tr>\n",
       "      <th>3</th>\n",
       "      <td>Prof</td>\n",
       "      <td>C</td>\n",
       "      <td>25</td>\n",
       "      <td>75</td>\n",
       "      <td>Male</td>\n",
       "      <td>77000</td>\n",
       "    </tr>\n",
       "    <tr>\n",
       "      <th>4</th>\n",
       "      <td>Prof</td>\n",
       "      <td>A</td>\n",
       "      <td>24</td>\n",
       "      <td>55</td>\n",
       "      <td>Female</td>\n",
       "      <td>336600</td>\n",
       "    </tr>\n",
       "    <tr>\n",
       "      <th>5</th>\n",
       "      <td>Prof</td>\n",
       "      <td>A</td>\n",
       "      <td>26</td>\n",
       "      <td>50</td>\n",
       "      <td>Male</td>\n",
       "      <td>170000</td>\n",
       "    </tr>\n",
       "  </tbody>\n",
       "</table>\n",
       "</div>"
      ],
      "text/plain": [
       "   rank discipline  phd  service     sex  salary\n",
       "3  Prof          C   25       75    Male   77000\n",
       "4  Prof          A   24       55  Female  336600\n",
       "5  Prof          A   26       50    Male  170000"
      ]
     },
     "execution_count": 20,
     "metadata": {},
     "output_type": "execute_result"
    }
   ],
   "source": [
    "df[3:6]"
   ]
  },
  {
   "cell_type": "markdown",
   "metadata": {},
   "source": [
    "Perceba que a primeira linha tem a posição 0, e o último valor na extensão é omitido."
   ]
  },
  {
   "cell_type": "markdown",
   "metadata": {},
   "source": [
    "## DataFrame: Método loc\n",
    "\n",
    "Se nós precisarmos selecionar uma extensão de linhas (utilizando seus rótulos) nós podemos utilizar o método **loc**"
   ]
  },
  {
   "cell_type": "code",
   "execution_count": 24,
   "metadata": {},
   "outputs": [
    {
     "data": {
      "text/html": [
       "<div>\n",
       "<style scoped>\n",
       "    .dataframe tbody tr th:only-of-type {\n",
       "        vertical-align: middle;\n",
       "    }\n",
       "\n",
       "    .dataframe tbody tr th {\n",
       "        vertical-align: top;\n",
       "    }\n",
       "\n",
       "    .dataframe thead th {\n",
       "        text-align: right;\n",
       "    }\n",
       "</style>\n",
       "<table border=\"1\" class=\"dataframe\">\n",
       "  <thead>\n",
       "    <tr style=\"text-align: right;\">\n",
       "      <th></th>\n",
       "      <th>rank</th>\n",
       "      <th>gênero</th>\n",
       "      <th>salário</th>\n",
       "    </tr>\n",
       "  </thead>\n",
       "  <tbody>\n",
       "    <tr>\n",
       "      <th>2</th>\n",
       "      <td>Prof</td>\n",
       "      <td>Masculino</td>\n",
       "      <td>66000</td>\n",
       "    </tr>\n",
       "    <tr>\n",
       "      <th>3</th>\n",
       "      <td>Prof</td>\n",
       "      <td>Masculino</td>\n",
       "      <td>77000</td>\n",
       "    </tr>\n",
       "    <tr>\n",
       "      <th>4</th>\n",
       "      <td>Prof</td>\n",
       "      <td>Feminino</td>\n",
       "      <td>336600</td>\n",
       "    </tr>\n",
       "    <tr>\n",
       "      <th>5</th>\n",
       "      <td>Prof</td>\n",
       "      <td>Masculino</td>\n",
       "      <td>170000</td>\n",
       "    </tr>\n",
       "    <tr>\n",
       "      <th>6</th>\n",
       "      <td>Prof</td>\n",
       "      <td>Feminino</td>\n",
       "      <td>120000</td>\n",
       "    </tr>\n",
       "  </tbody>\n",
       "</table>\n",
       "</div>"
      ],
      "text/plain": [
       "   rank     gênero  salário\n",
       "2  Prof  Masculino    66000\n",
       "3  Prof  Masculino    77000\n",
       "4  Prof   Feminino   336600\n",
       "5  Prof  Masculino   170000\n",
       "6  Prof   Feminino   120000"
      ]
     },
     "execution_count": 24,
     "metadata": {},
     "output_type": "execute_result"
    }
   ],
   "source": [
    "df.loc[2:6,['rank','gênero','salário']]"
   ]
  },
  {
   "cell_type": "markdown",
   "metadata": {},
   "source": [
    "## DataFrame: Método iloc\n",
    "\n",
    "Se nós precisarmos selecionar uma extensão de linhas e/ou colunas (utilização suas posições) nós podemos utilizar o método **iloc**"
   ]
  },
  {
   "cell_type": "code",
   "execution_count": 26,
   "metadata": {},
   "outputs": [
    {
     "data": {
      "text/html": [
       "<div>\n",
       "<style scoped>\n",
       "    .dataframe tbody tr th:only-of-type {\n",
       "        vertical-align: middle;\n",
       "    }\n",
       "\n",
       "    .dataframe tbody tr th {\n",
       "        vertical-align: top;\n",
       "    }\n",
       "\n",
       "    .dataframe thead th {\n",
       "        text-align: right;\n",
       "    }\n",
       "</style>\n",
       "<table border=\"1\" class=\"dataframe\">\n",
       "  <thead>\n",
       "    <tr style=\"text-align: right;\">\n",
       "      <th></th>\n",
       "      <th>rank</th>\n",
       "      <th>service</th>\n",
       "      <th>sex</th>\n",
       "      <th>salary</th>\n",
       "    </tr>\n",
       "  </thead>\n",
       "  <tbody>\n",
       "    <tr>\n",
       "      <th>2</th>\n",
       "      <td>Prof</td>\n",
       "      <td>37</td>\n",
       "      <td>Male</td>\n",
       "      <td>66000</td>\n",
       "    </tr>\n",
       "    <tr>\n",
       "      <th>3</th>\n",
       "      <td>Prof</td>\n",
       "      <td>75</td>\n",
       "      <td>Male</td>\n",
       "      <td>77000</td>\n",
       "    </tr>\n",
       "    <tr>\n",
       "      <th>4</th>\n",
       "      <td>Prof</td>\n",
       "      <td>55</td>\n",
       "      <td>Female</td>\n",
       "      <td>336600</td>\n",
       "    </tr>\n",
       "    <tr>\n",
       "      <th>5</th>\n",
       "      <td>Prof</td>\n",
       "      <td>50</td>\n",
       "      <td>Male</td>\n",
       "      <td>170000</td>\n",
       "    </tr>\n",
       "    <tr>\n",
       "      <th>6</th>\n",
       "      <td>Prof</td>\n",
       "      <td>24</td>\n",
       "      <td>Female</td>\n",
       "      <td>120000</td>\n",
       "    </tr>\n",
       "  </tbody>\n",
       "</table>\n",
       "</div>"
      ],
      "text/plain": [
       "   rank  service     sex  salary\n",
       "2  Prof       37    Male   66000\n",
       "3  Prof       75    Male   77000\n",
       "4  Prof       55  Female  336600\n",
       "5  Prof       50    Male  170000\n",
       "6  Prof       24  Female  120000"
      ]
     },
     "execution_count": 26,
     "metadata": {},
     "output_type": "execute_result"
    }
   ],
   "source": [
    "df.iloc[2:7,[0,3,4,5]]"
   ]
  },
  {
   "cell_type": "markdown",
   "metadata": {},
   "source": [
    "## DataFrame: Método iloc (Sumário)"
   ]
  },
  {
   "cell_type": "code",
   "execution_count": 27,
   "metadata": {},
   "outputs": [
    {
     "data": {
      "text/plain": [
       "rank            Prof\n",
       "discipline         B\n",
       "phd               56\n",
       "service           49\n",
       "sex             Male\n",
       "salary        186960\n",
       "Name: 0, dtype: object"
      ]
     },
     "execution_count": 27,
     "metadata": {},
     "output_type": "execute_result"
    }
   ],
   "source": [
    "df.iloc[0]"
   ]
  },
  {
   "cell_type": "code",
   "execution_count": 29,
   "metadata": {},
   "outputs": [
    {
     "data": {
      "text/plain": [
       "rank            Prof\n",
       "discipline         B\n",
       "phd               50\n",
       "service           24\n",
       "sex           Female\n",
       "salary        120000\n",
       "Name: 6, dtype: object"
      ]
     },
     "execution_count": 29,
     "metadata": {},
     "output_type": "execute_result"
    }
   ],
   "source": [
    "df.iloc[-1]"
   ]
  },
  {
   "cell_type": "code",
   "execution_count": 30,
   "metadata": {},
   "outputs": [
    {
     "data": {
      "text/plain": [
       "0    Prof\n",
       "1    Prof\n",
       "2    Prof\n",
       "3    Prof\n",
       "4    Prof\n",
       "5    Prof\n",
       "6    Prof\n",
       "Name: rank, dtype: object"
      ]
     },
     "execution_count": 30,
     "metadata": {},
     "output_type": "execute_result"
    }
   ],
   "source": [
    "df.iloc[:,0] # Primeira coluna"
   ]
  },
  {
   "cell_type": "code",
   "execution_count": 31,
   "metadata": {},
   "outputs": [
    {
     "data": {
      "text/plain": [
       "0    186960\n",
       "1     93000\n",
       "2     66000\n",
       "3     77000\n",
       "4    336600\n",
       "5    170000\n",
       "6    120000\n",
       "Name: salary, dtype: int64"
      ]
     },
     "execution_count": 31,
     "metadata": {},
     "output_type": "execute_result"
    }
   ],
   "source": [
    "df.iloc[:,-1] # Última coluna"
   ]
  },
  {
   "cell_type": "code",
   "execution_count": 32,
   "metadata": {},
   "outputs": [
    {
     "data": {
      "text/html": [
       "<div>\n",
       "<style scoped>\n",
       "    .dataframe tbody tr th:only-of-type {\n",
       "        vertical-align: middle;\n",
       "    }\n",
       "\n",
       "    .dataframe tbody tr th {\n",
       "        vertical-align: top;\n",
       "    }\n",
       "\n",
       "    .dataframe thead th {\n",
       "        text-align: right;\n",
       "    }\n",
       "</style>\n",
       "<table border=\"1\" class=\"dataframe\">\n",
       "  <thead>\n",
       "    <tr style=\"text-align: right;\">\n",
       "      <th></th>\n",
       "      <th>rank</th>\n",
       "      <th>discipline</th>\n",
       "      <th>phd</th>\n",
       "      <th>service</th>\n",
       "      <th>sex</th>\n",
       "      <th>salary</th>\n",
       "    </tr>\n",
       "  </thead>\n",
       "  <tbody>\n",
       "    <tr>\n",
       "      <th>0</th>\n",
       "      <td>Prof</td>\n",
       "      <td>B</td>\n",
       "      <td>56</td>\n",
       "      <td>49</td>\n",
       "      <td>Male</td>\n",
       "      <td>186960</td>\n",
       "    </tr>\n",
       "    <tr>\n",
       "      <th>1</th>\n",
       "      <td>Prof</td>\n",
       "      <td>A</td>\n",
       "      <td>12</td>\n",
       "      <td>34</td>\n",
       "      <td>Female</td>\n",
       "      <td>93000</td>\n",
       "    </tr>\n",
       "    <tr>\n",
       "      <th>2</th>\n",
       "      <td>Prof</td>\n",
       "      <td>B</td>\n",
       "      <td>13</td>\n",
       "      <td>37</td>\n",
       "      <td>Male</td>\n",
       "      <td>66000</td>\n",
       "    </tr>\n",
       "    <tr>\n",
       "      <th>3</th>\n",
       "      <td>Prof</td>\n",
       "      <td>C</td>\n",
       "      <td>25</td>\n",
       "      <td>75</td>\n",
       "      <td>Male</td>\n",
       "      <td>77000</td>\n",
       "    </tr>\n",
       "    <tr>\n",
       "      <th>4</th>\n",
       "      <td>Prof</td>\n",
       "      <td>A</td>\n",
       "      <td>24</td>\n",
       "      <td>55</td>\n",
       "      <td>Female</td>\n",
       "      <td>336600</td>\n",
       "    </tr>\n",
       "    <tr>\n",
       "      <th>5</th>\n",
       "      <td>Prof</td>\n",
       "      <td>A</td>\n",
       "      <td>26</td>\n",
       "      <td>50</td>\n",
       "      <td>Male</td>\n",
       "      <td>170000</td>\n",
       "    </tr>\n",
       "    <tr>\n",
       "      <th>6</th>\n",
       "      <td>Prof</td>\n",
       "      <td>B</td>\n",
       "      <td>50</td>\n",
       "      <td>24</td>\n",
       "      <td>Female</td>\n",
       "      <td>120000</td>\n",
       "    </tr>\n",
       "  </tbody>\n",
       "</table>\n",
       "</div>"
      ],
      "text/plain": [
       "   rank discipline  phd  service     sex  salary\n",
       "0  Prof          B   56       49    Male  186960\n",
       "1  Prof          A   12       34  Female   93000\n",
       "2  Prof          B   13       37    Male   66000\n",
       "3  Prof          C   25       75    Male   77000\n",
       "4  Prof          A   24       55  Female  336600\n",
       "5  Prof          A   26       50    Male  170000\n",
       "6  Prof          B   50       24  Female  120000"
      ]
     },
     "execution_count": 32,
     "metadata": {},
     "output_type": "execute_result"
    }
   ],
   "source": [
    "df.iloc[0:7] # Sete primeiras linhas"
   ]
  },
  {
   "cell_type": "code",
   "execution_count": 33,
   "metadata": {},
   "outputs": [
    {
     "data": {
      "text/html": [
       "<div>\n",
       "<style scoped>\n",
       "    .dataframe tbody tr th:only-of-type {\n",
       "        vertical-align: middle;\n",
       "    }\n",
       "\n",
       "    .dataframe tbody tr th {\n",
       "        vertical-align: top;\n",
       "    }\n",
       "\n",
       "    .dataframe thead th {\n",
       "        text-align: right;\n",
       "    }\n",
       "</style>\n",
       "<table border=\"1\" class=\"dataframe\">\n",
       "  <thead>\n",
       "    <tr style=\"text-align: right;\">\n",
       "      <th></th>\n",
       "      <th>rank</th>\n",
       "      <th>discipline</th>\n",
       "    </tr>\n",
       "  </thead>\n",
       "  <tbody>\n",
       "    <tr>\n",
       "      <th>0</th>\n",
       "      <td>Prof</td>\n",
       "      <td>B</td>\n",
       "    </tr>\n",
       "    <tr>\n",
       "      <th>1</th>\n",
       "      <td>Prof</td>\n",
       "      <td>A</td>\n",
       "    </tr>\n",
       "    <tr>\n",
       "      <th>2</th>\n",
       "      <td>Prof</td>\n",
       "      <td>B</td>\n",
       "    </tr>\n",
       "    <tr>\n",
       "      <th>3</th>\n",
       "      <td>Prof</td>\n",
       "      <td>C</td>\n",
       "    </tr>\n",
       "    <tr>\n",
       "      <th>4</th>\n",
       "      <td>Prof</td>\n",
       "      <td>A</td>\n",
       "    </tr>\n",
       "    <tr>\n",
       "      <th>5</th>\n",
       "      <td>Prof</td>\n",
       "      <td>A</td>\n",
       "    </tr>\n",
       "    <tr>\n",
       "      <th>6</th>\n",
       "      <td>Prof</td>\n",
       "      <td>B</td>\n",
       "    </tr>\n",
       "  </tbody>\n",
       "</table>\n",
       "</div>"
      ],
      "text/plain": [
       "   rank discipline\n",
       "0  Prof          B\n",
       "1  Prof          A\n",
       "2  Prof          B\n",
       "3  Prof          C\n",
       "4  Prof          A\n",
       "5  Prof          A\n",
       "6  Prof          B"
      ]
     },
     "execution_count": 33,
     "metadata": {},
     "output_type": "execute_result"
    }
   ],
   "source": [
    "df.iloc[:,0:2] # Duas primeiras colunas"
   ]
  },
  {
   "cell_type": "code",
   "execution_count": 37,
   "metadata": {},
   "outputs": [
    {
     "data": {
      "text/html": [
       "<div>\n",
       "<style scoped>\n",
       "    .dataframe tbody tr th:only-of-type {\n",
       "        vertical-align: middle;\n",
       "    }\n",
       "\n",
       "    .dataframe tbody tr th {\n",
       "        vertical-align: top;\n",
       "    }\n",
       "\n",
       "    .dataframe thead th {\n",
       "        text-align: right;\n",
       "    }\n",
       "</style>\n",
       "<table border=\"1\" class=\"dataframe\">\n",
       "  <thead>\n",
       "    <tr style=\"text-align: right;\">\n",
       "      <th></th>\n",
       "      <th>rank</th>\n",
       "      <th>discipline</th>\n",
       "    </tr>\n",
       "  </thead>\n",
       "  <tbody>\n",
       "    <tr>\n",
       "      <th>1</th>\n",
       "      <td>Prof</td>\n",
       "      <td>A</td>\n",
       "    </tr>\n",
       "    <tr>\n",
       "      <th>2</th>\n",
       "      <td>Prof</td>\n",
       "      <td>B</td>\n",
       "    </tr>\n",
       "  </tbody>\n",
       "</table>\n",
       "</div>"
      ],
      "text/plain": [
       "   rank discipline\n",
       "1  Prof          A\n",
       "2  Prof          B"
      ]
     },
     "execution_count": 37,
     "metadata": {},
     "output_type": "execute_result"
    }
   ],
   "source": [
    "df.iloc[1:3, 0:2] # Segunda e terceira linha e as duas primeiras colunas"
   ]
  },
  {
   "cell_type": "code",
   "execution_count": 38,
   "metadata": {},
   "outputs": [
    {
     "data": {
      "text/html": [
       "<div>\n",
       "<style scoped>\n",
       "    .dataframe tbody tr th:only-of-type {\n",
       "        vertical-align: middle;\n",
       "    }\n",
       "\n",
       "    .dataframe tbody tr th {\n",
       "        vertical-align: top;\n",
       "    }\n",
       "\n",
       "    .dataframe thead th {\n",
       "        text-align: right;\n",
       "    }\n",
       "</style>\n",
       "<table border=\"1\" class=\"dataframe\">\n",
       "  <thead>\n",
       "    <tr style=\"text-align: right;\">\n",
       "      <th></th>\n",
       "      <th>discipline</th>\n",
       "      <th>service</th>\n",
       "    </tr>\n",
       "  </thead>\n",
       "  <tbody>\n",
       "    <tr>\n",
       "      <th>0</th>\n",
       "      <td>B</td>\n",
       "      <td>49</td>\n",
       "    </tr>\n",
       "    <tr>\n",
       "      <th>5</th>\n",
       "      <td>A</td>\n",
       "      <td>50</td>\n",
       "    </tr>\n",
       "  </tbody>\n",
       "</table>\n",
       "</div>"
      ],
      "text/plain": [
       "  discipline  service\n",
       "0          B       49\n",
       "5          A       50"
      ]
     },
     "execution_count": 38,
     "metadata": {},
     "output_type": "execute_result"
    }
   ],
   "source": [
    "df.iloc[[0,5],[1,3]] # Primeira e Sexta linhas e Segunda e Quarta colunas"
   ]
  },
  {
   "cell_type": "markdown",
   "metadata": {},
   "source": [
    "## DataFrame: Ordenando\n",
    "\n",
    "Nós podemos ordernar os dados por um valor na coluna. Por padrão a organização irá ocorrer de maneira ascendente e um novo DataFrame será retornado"
   ]
  },
  {
   "cell_type": "code",
   "execution_count": 25,
   "metadata": {},
   "outputs": [
    {
     "data": {
      "text/html": [
       "<div>\n",
       "<style scoped>\n",
       "    .dataframe tbody tr th:only-of-type {\n",
       "        vertical-align: middle;\n",
       "    }\n",
       "\n",
       "    .dataframe tbody tr th {\n",
       "        vertical-align: top;\n",
       "    }\n",
       "\n",
       "    .dataframe thead th {\n",
       "        text-align: right;\n",
       "    }\n",
       "</style>\n",
       "<table border=\"1\" class=\"dataframe\">\n",
       "  <thead>\n",
       "    <tr style=\"text-align: right;\">\n",
       "      <th></th>\n",
       "      <th>rank</th>\n",
       "      <th>disciplina</th>\n",
       "      <th>phd</th>\n",
       "      <th>serviço</th>\n",
       "      <th>gênero</th>\n",
       "      <th>salário</th>\n",
       "    </tr>\n",
       "  </thead>\n",
       "  <tbody>\n",
       "    <tr>\n",
       "      <th>10</th>\n",
       "      <td>Prof</td>\n",
       "      <td>B</td>\n",
       "      <td>44</td>\n",
       "      <td>14</td>\n",
       "      <td>Masculino</td>\n",
       "      <td>105000</td>\n",
       "    </tr>\n",
       "    <tr>\n",
       "      <th>7</th>\n",
       "      <td>Prof</td>\n",
       "      <td>B</td>\n",
       "      <td>35</td>\n",
       "      <td>22</td>\n",
       "      <td>Feminino</td>\n",
       "      <td>130000</td>\n",
       "    </tr>\n",
       "    <tr>\n",
       "      <th>9</th>\n",
       "      <td>Prof</td>\n",
       "      <td>C</td>\n",
       "      <td>22</td>\n",
       "      <td>23</td>\n",
       "      <td>Masculino</td>\n",
       "      <td>88000</td>\n",
       "    </tr>\n",
       "    <tr>\n",
       "      <th>6</th>\n",
       "      <td>Prof</td>\n",
       "      <td>B</td>\n",
       "      <td>50</td>\n",
       "      <td>24</td>\n",
       "      <td>Feminino</td>\n",
       "      <td>120000</td>\n",
       "    </tr>\n",
       "    <tr>\n",
       "      <th>1</th>\n",
       "      <td>Prof</td>\n",
       "      <td>A</td>\n",
       "      <td>12</td>\n",
       "      <td>34</td>\n",
       "      <td>Feminino</td>\n",
       "      <td>93000</td>\n",
       "    </tr>\n",
       "  </tbody>\n",
       "</table>\n",
       "</div>"
      ],
      "text/plain": [
       "    rank disciplina  phd  serviço     gênero  salário\n",
       "10  Prof          B   44       14  Masculino   105000\n",
       "7   Prof          B   35       22   Feminino   130000\n",
       "9   Prof          C   22       23  Masculino    88000\n",
       "6   Prof          B   50       24   Feminino   120000\n",
       "1   Prof          A   12       34   Feminino    93000"
      ]
     },
     "execution_count": 25,
     "metadata": {},
     "output_type": "execute_result"
    }
   ],
   "source": [
    "df_sorted = df.sort_values(by='serviço')\n",
    "df_sorted.head()"
   ]
  },
  {
   "cell_type": "markdown",
   "metadata": {},
   "source": [
    "Também podemos ordernar usando duas ou mais colunas:"
   ]
  },
  {
   "cell_type": "code",
   "execution_count": 26,
   "metadata": {},
   "outputs": [
    {
     "data": {
      "text/html": [
       "<div>\n",
       "<style scoped>\n",
       "    .dataframe tbody tr th:only-of-type {\n",
       "        vertical-align: middle;\n",
       "    }\n",
       "\n",
       "    .dataframe tbody tr th {\n",
       "        vertical-align: top;\n",
       "    }\n",
       "\n",
       "    .dataframe thead th {\n",
       "        text-align: right;\n",
       "    }\n",
       "</style>\n",
       "<table border=\"1\" class=\"dataframe\">\n",
       "  <thead>\n",
       "    <tr style=\"text-align: right;\">\n",
       "      <th></th>\n",
       "      <th>rank</th>\n",
       "      <th>disciplina</th>\n",
       "      <th>phd</th>\n",
       "      <th>serviço</th>\n",
       "      <th>gênero</th>\n",
       "      <th>salário</th>\n",
       "    </tr>\n",
       "  </thead>\n",
       "  <tbody>\n",
       "    <tr>\n",
       "      <th>10</th>\n",
       "      <td>Prof</td>\n",
       "      <td>B</td>\n",
       "      <td>44</td>\n",
       "      <td>14</td>\n",
       "      <td>Masculino</td>\n",
       "      <td>105000</td>\n",
       "    </tr>\n",
       "    <tr>\n",
       "      <th>7</th>\n",
       "      <td>Prof</td>\n",
       "      <td>B</td>\n",
       "      <td>35</td>\n",
       "      <td>22</td>\n",
       "      <td>Feminino</td>\n",
       "      <td>130000</td>\n",
       "    </tr>\n",
       "    <tr>\n",
       "      <th>9</th>\n",
       "      <td>Prof</td>\n",
       "      <td>C</td>\n",
       "      <td>22</td>\n",
       "      <td>23</td>\n",
       "      <td>Masculino</td>\n",
       "      <td>88000</td>\n",
       "    </tr>\n",
       "    <tr>\n",
       "      <th>6</th>\n",
       "      <td>Prof</td>\n",
       "      <td>B</td>\n",
       "      <td>50</td>\n",
       "      <td>24</td>\n",
       "      <td>Feminino</td>\n",
       "      <td>120000</td>\n",
       "    </tr>\n",
       "    <tr>\n",
       "      <th>1</th>\n",
       "      <td>Prof</td>\n",
       "      <td>A</td>\n",
       "      <td>12</td>\n",
       "      <td>34</td>\n",
       "      <td>Feminino</td>\n",
       "      <td>93000</td>\n",
       "    </tr>\n",
       "  </tbody>\n",
       "</table>\n",
       "</div>"
      ],
      "text/plain": [
       "    rank disciplina  phd  serviço     gênero  salário\n",
       "10  Prof          B   44       14  Masculino   105000\n",
       "7   Prof          B   35       22   Feminino   130000\n",
       "9   Prof          C   22       23  Masculino    88000\n",
       "6   Prof          B   50       24   Feminino   120000\n",
       "1   Prof          A   12       34   Feminino    93000"
      ]
     },
     "execution_count": 26,
     "metadata": {},
     "output_type": "execute_result"
    }
   ],
   "source": [
    "df_sorted = df.sort_values(by=['serviço', 'salário'], ascending=[True,False])\n",
    "df_sorted.head()"
   ]
  },
  {
   "cell_type": "markdown",
   "metadata": {},
   "source": [
    "## Valores Faltantes\n",
    "\n",
    "Existem alguns métodos que nos permitem lidar com valores faltantes no DataFrame:\n",
    "\n",
    "| df.method | Descrição | \n",
    "| --- | --- | \n",
    "| dropna() | Dropa as observações faltantes | \n",
    "| dropna(how='all') | Dropa observações onde todas as células são NA |\n",
    "| dropna(axis=1,how='all') | Dropa a coluna se todos os valores estiverem faltando | \n",
    "| dropna(thresh=5) | Dropa as linhas que contém menos de 5 valores não-faltantes | \n",
    "| fillna(0) | Substitui valores faltantes por zeros | \n",
    "| isnull() | retorna True se o valor está faltando | \n",
    "| notnull() | Retorna True para valores não-faltantes | "
   ]
  },
  {
   "cell_type": "markdown",
   "metadata": {},
   "source": [
    "## Valores Faltantes\n",
    "\n",
    "- Ao somarmos os dados, valores faltantes serão tratados como zero\n",
    "- Se todos os valores estiverem faltando, a soma será igual a NaN\n",
    "- Os métodos cumsum() e cumprod() ignoram valores faltantes, porém preservam eles no array resultante\n",
    "- Valores faltantes no método groupby são excluídos\n",
    "- Muitos métodos de estatística descritiva tem a opção skipna para controlar se dados faltantes devem ser excluídos. Esse valor é setado para True por padrão (diferente de R)"
   ]
  },
  {
   "cell_type": "markdown",
   "metadata": {},
   "source": [
    "## Funções de Agregação em Pandas\n",
    "\n",
    "Agregração -> Computar um sumário de estatísticas para cada grupo\n",
    "- Computa a soma do grupo ou médias\n",
    "- Computa o tamanho do grupo/contagens\n",
    "\n",
    "Funções de agregação comuns:\n",
    "\n",
    "min, max, count, sum, prod, mean, median, mode, mad, std, var"
   ]
  }
 ],
 "metadata": {
  "kernelspec": {
   "display_name": "Python 3",
   "language": "python",
   "name": "python3"
  },
  "language_info": {
   "codemirror_mode": {
    "name": "ipython",
    "version": 3
   },
   "file_extension": ".py",
   "mimetype": "text/x-python",
   "name": "python",
   "nbconvert_exporter": "python",
   "pygments_lexer": "ipython3",
   "version": "3.6.9"
  }
 },
 "nbformat": 4,
 "nbformat_minor": 4
}
